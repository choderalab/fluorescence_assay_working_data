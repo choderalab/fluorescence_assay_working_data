{
 "cells": [
  {
   "cell_type": "markdown",
   "metadata": {},
   "source": [
    "# Multiple well assay with 0.5 uM Abl WT & Src WT and fresh bosutinib, erlotinib, & DMSO. "
   ]
  },
  {
   "cell_type": "markdown",
   "metadata": {},
   "source": [
    "## Tested single wv reads at ex 280/em 480, with emission bandwidth 10 & 20 nm. Only going to analyze the bandwidth 20 nm data. "
   ]
  },
  {
   "cell_type": "code",
   "execution_count": null,
   "metadata": {},
   "outputs": [],
   "source": [
    "import sys"
   ]
  },
  {
   "cell_type": "code",
   "execution_count": null,
   "metadata": {},
   "outputs": [],
   "source": [
    "sys.path.append('/Users/goldbee2/pybraries/assaytools/AssayTools')"
   ]
  },
  {
   "cell_type": "code",
   "execution_count": null,
   "metadata": {},
   "outputs": [],
   "source": [
    "# %load kinase_single_well_spectra_experiment\n",
    "\n",
    "# get_ipython().run_line_magic('matplotlib', 'inline')\n",
    "%matplotlib inline \n",
    "import matplotlib.pyplot as plt\n",
    "import seaborn as sns\n",
    "import numpy as np\n",
    "import os\n",
    "from matplotlib.offsetbox import AnchoredText\n",
    "import matplotlib.cm as cm\n",
    "import pandas as pd\n",
    "from lxml import etree\n",
    "from matplotlib.ticker import FormatStrFormatter\n",
    "from matplotlib.ticker import FormatStrFormatter\n",
    "import matplotlib\n",
    "from glob import glob\n",
    "\n",
    "import assaytools\n",
    "\n",
    "from assaytools import platereader"
   ]
  },
  {
   "cell_type": "code",
   "execution_count": null,
   "metadata": {},
   "outputs": [],
   "source": [
    "concentrations = np.array([  0.00000000e+00,   8.00000000e-09,   1.75e-08,\n",
    "         3.83e-08,   8.37e-08,   1.83e-07,\n",
    "         4e-07,   8.75e-07,   1.91e-06,\n",
    "         4.18e-06,   9.15e-06,   2e-05])"
   ]
  },
  {
   "cell_type": "code",
   "execution_count": null,
   "metadata": {},
   "outputs": [],
   "source": [
    "filenames = sorted(glob('20200923_Timing_Test1.xml'))\n",
    "filenames.sort(key=os.path.getmtime)"
   ]
  },
  {
   "cell_type": "code",
   "execution_count": null,
   "metadata": {},
   "outputs": [],
   "source": [
    "reads = list()\n",
    "nreads = len(filenames)\n",
    "for read in range(nreads):\n",
    "    read = platereader.read_icontrol_xml(filenames[read])\n",
    "    reads.append(read)"
   ]
  },
  {
   "cell_type": "code",
   "execution_count": null,
   "metadata": {},
   "outputs": [],
   "source": [
    "# set label for which one we want to analyze\n",
    "\n",
    "label = 'ex280_em480_top_gain100_bw20'"
   ]
  },
  {
   "cell_type": "markdown",
   "metadata": {},
   "source": [
    "## Extract data for each fluo trace over timecourse"
   ]
  },
  {
   "cell_type": "markdown",
   "metadata": {},
   "source": [
    "### Abl WT: Bosutinib"
   ]
  },
  {
   "cell_type": "code",
   "execution_count": null,
   "metadata": {},
   "outputs": [],
   "source": [
    "# associate reads with correct well, separate protein and buffer into separate arrays\n",
    "Abl_bos_prot_time = np.zeros([20, 12], np.float64)\n",
    "Abl_bos_buff_time = np.zeros([20, 12], np.float64)\n",
    "\n",
    "ncol = 12\n",
    "\n",
    "abl_bos_prot_wells = list()\n",
    "abl_bos_buff_wells = list()\n",
    "\n",
    "for well in range(ncol):\n",
    "    index = well + 1\n",
    "    prot_well_name = 'A%s' % index\n",
    "    buff_well_name = 'B%s' % index\n",
    "    abl_bos_prot_wells.append(prot_well_name)\n",
    "    abl_bos_buff_wells.append(buff_well_name)\n",
    "\n",
    "for n in range(nreads):\n",
    "    measurements_prot = list([reads[n][label][j] for j in abl_bos_prot_wells])\n",
    "    measurements_buff = list([reads[n][label][j] for j in abl_bos_buff_wells])\n",
    "    measurements_prot = [float(i) for i in measurements_prot]\n",
    "    measurements_buff = [float(i) for i in measurements_buff]\n",
    "    measurements_prot = [x if x != 'OVER' else 70000 for x in measurements_prot]\n",
    "    measurements_buff = [x if x != 'OVER' else 70000 for x in measurements_buff]\n",
    "    Abl_bos_prot_time[n] = np.array(measurements_prot)\n",
    "    Abl_bos_buff_time[n] = np.array(measurements_buff)"
   ]
  },
  {
   "cell_type": "markdown",
   "metadata": {},
   "source": [
    "### Abl WT: Erlotinib"
   ]
  },
  {
   "cell_type": "code",
   "execution_count": null,
   "metadata": {},
   "outputs": [],
   "source": [
    "# associate reads with correct well, separate protein and buffer into separate arrays\n",
    "Abl_erl_prot_time = np.zeros([20, 12], np.float64)\n",
    "Abl_erl_buff_time = np.zeros([20, 12], np.float64)\n",
    "\n",
    "ncol = 12\n",
    "\n",
    "abl_erl_prot_wells = list()\n",
    "abl_erl_buff_wells = list()\n",
    "\n",
    "for well in range(ncol):\n",
    "    index = well + 1\n",
    "    prot_well_name = 'C%s' % index\n",
    "    buff_well_name = 'D%s' % index\n",
    "    abl_erl_prot_wells.append(prot_well_name)\n",
    "    abl_erl_buff_wells.append(buff_well_name)\n",
    "\n",
    "for n in range(nreads):\n",
    "    measurements_prot = list([reads[n][label][j] for j in abl_erl_prot_wells])\n",
    "    measurements_buff = list([reads[n][label][j] for j in abl_erl_buff_wells])\n",
    "    measurements_prot = [float(i) for i in measurements_prot]\n",
    "    measurements_buff = [float(i) for i in measurements_buff]\n",
    "    measurements_prot = [x if x != 'OVER' else 70000 for x in measurements_prot]\n",
    "    measurements_buff = [x if x != 'OVER' else 70000 for x in measurements_buff]\n",
    "    Abl_erl_prot_time[n] = np.array(measurements_prot)\n",
    "    Abl_erl_buff_time[n] = np.array(measurements_buff)"
   ]
  },
  {
   "cell_type": "markdown",
   "metadata": {},
   "source": [
    "### Src WT:Bosutinib"
   ]
  },
  {
   "cell_type": "code",
   "execution_count": null,
   "metadata": {},
   "outputs": [],
   "source": [
    "# associate reads with correct well, separate protein and buffer into separate arrays\n",
    "Src_bos_prot_time = np.zeros([20, 12], np.float64)\n",
    "Src_bos_buff_time = np.zeros([20, 12], np.float64)\n",
    "\n",
    "ncol = 12\n",
    "\n",
    "src_bos_prot_wells = list()\n",
    "src_bos_buff_wells = list()\n",
    "\n",
    "for well in range(ncol):\n",
    "    index = well + 1\n",
    "    prot_well_name = 'E%s' % index\n",
    "    buff_well_name = 'F%s' % index\n",
    "    src_bos_prot_wells.append(prot_well_name)\n",
    "    src_bos_buff_wells.append(buff_well_name)\n",
    "\n",
    "for n in range(nreads):\n",
    "    measurements_prot = list([reads[n][label][j] for j in src_bos_prot_wells])\n",
    "    measurements_buff = list([reads[n][label][j] for j in src_bos_buff_wells])\n",
    "    measurements_prot = [float(i) for i in measurements_prot]\n",
    "    measurements_buff = [float(i) for i in measurements_buff]\n",
    "    measurements_prot = [x if x != 'OVER' else 70000 for x in measurements_prot]\n",
    "    measurements_buff = [x if x != 'OVER' else 70000 for x in measurements_buff]\n",
    "    Src_bos_prot_time[n] = np.array(measurements_prot)\n",
    "    Src_bos_buff_time[n] = np.array(measurements_buff)"
   ]
  },
  {
   "cell_type": "markdown",
   "metadata": {},
   "source": [
    "### Src WT:Erlotinib"
   ]
  },
  {
   "cell_type": "code",
   "execution_count": null,
   "metadata": {},
   "outputs": [],
   "source": [
    "# associate reads with correct well, separate protein and buffer into separate arrays\n",
    "Src_erl_prot_time = np.zeros([20, 12], np.float64)\n",
    "Src_erl_buff_time = np.zeros([20, 12], np.float64)\n",
    "\n",
    "ncol = 12\n",
    "\n",
    "src_erl_prot_wells = list()\n",
    "src_erl_buff_wells = list()\n",
    "\n",
    "for well in range(ncol):\n",
    "    index = well + 1\n",
    "    prot_well_name = 'G%s' % index\n",
    "    buff_well_name = 'H%s' % index\n",
    "    src_erl_prot_wells.append(prot_well_name)\n",
    "    src_erl_buff_wells.append(buff_well_name)\n",
    "\n",
    "for n in range(nreads):\n",
    "    measurements_prot = list([reads[n][label][j] for j in src_erl_prot_wells])\n",
    "    measurements_buff = list([reads[n][label][j] for j in src_erl_buff_wells])\n",
    "    measurements_prot = [float(i) for i in measurements_prot]\n",
    "    measurements_buff = [float(i) for i in measurements_buff]\n",
    "    measurements_prot = [x if x != 'OVER' else 70000 for x in measurements_prot]\n",
    "    measurements_buff = [x if x != 'OVER' else 70000 for x in measurements_buff]\n",
    "    Src_erl_prot_time[n] = np.array(measurements_prot)\n",
    "    Src_erl_buff_time[n] = np.array(measurements_buff)"
   ]
  },
  {
   "cell_type": "markdown",
   "metadata": {},
   "source": [
    "## Create functions for plotting"
   ]
  },
  {
   "cell_type": "code",
   "execution_count": null,
   "metadata": {},
   "outputs": [],
   "source": [
    "# plot fluo trace across concentrations with colormap of each timepoint, logx with or without ylim\n",
    "\n",
    "def fluo_trace_logx(prot, lig, y_prot, y_buff):\n",
    "    \n",
    "    for n in range(nreads):\n",
    "        x_values = concentrations\n",
    "        color = cm.rainbow(np.linspace(0,1,20))\n",
    "        for read, c in zip(y_prot, color):\n",
    "            plt.semilogx(x_values, np.flip(read), c=c, linestyle='solid')\n",
    "        for read, c in zip(y_buff, color):\n",
    "            plt.semilogx(x_values, np.flip(read), c=c, linestyle='dotted')\n",
    "        \n",
    "        ax1.spines['top'].set_visible(False)\n",
    "        ax1.spines['right'].set_visible(False)\n",
    "\n",
    "        plt.tick_params(axis='x', which='both', bottom=True, top=False, labelbottom=True, labelsize=16)\n",
    "        plt.tick_params(axis='y', which='both', left=True, right=False, labelleft=True, labelsize=16)\n",
    "        \n",
    "        plt.title('%s:%s' % (prot, lig), fontsize =25)\n",
    "        anchored_text = AnchoredText('Protein = solid \\nBuffer = dashed',  loc='upper left', prop=dict(size=16))\n",
    "        ax1.add_artist(anchored_text)"
   ]
  },
  {
   "cell_type": "code",
   "execution_count": null,
   "metadata": {},
   "outputs": [],
   "source": [
    "fig = plt.figure(figsize=(20,16), dpi=300)\n",
    "\n",
    "plt.subplots_adjust(hspace=0.3)\n",
    "\n",
    "ax1 = fig.add_subplot(2,2,1)\n",
    "Abl_bos = fluo_trace_logx(prot='Abl WT', lig='Bosutinib', y_prot=Abl_bos_prot_time, y_buff=Abl_bos_buff_time)\n",
    "\n",
    "ax1 = fig.add_subplot(2,2,2)\n",
    "Abl_erl = fluo_trace_logx(prot='Abl WT', lig='Erlotinib', y_prot=Abl_erl_prot_time, y_buff=Abl_erl_buff_time)\n",
    "\n",
    "ax1 = fig.add_subplot(2,2,3)\n",
    "Src_bos = fluo_trace_logx(prot='Src WT', lig='Bosutinib', y_prot=Src_bos_prot_time, y_buff=Src_bos_buff_time)\n",
    "\n",
    "axis = plt.gca()\n",
    "plt.ylabel('Fluorescence Intensity (rfu)', fontsize=24)\n",
    "axis.yaxis.set_label_coords(-0.15,1.25)\n",
    "plt.xlabel('Concentration (M)', fontsize=24)\n",
    "axis.xaxis.set_label_coords(1,-0.2)\n",
    "\n",
    "ax1 = fig.add_subplot(2,2,4)\n",
    "Src_erl = fluo_trace_logx(prot='Src WT', lig='Erlotinib', y_prot=Src_erl_prot_time, y_buff=Src_erl_buff_time)\n",
    "\n",
    "\n",
    "cax = fig.add_axes([.92, 0.127, 0.03, 0.75])\n",
    "\n",
    "time = [i for i in range(nreads)] \n",
    "time_mins = [i*5 for i in time]\n",
    "time_wait = list()\n",
    "for i in time_mins:\n",
    "    if i > 45:\n",
    "        i += 17\n",
    "    time_wait.append(i)\n",
    "norm = matplotlib.colors.BoundaryNorm(range(21), cm.rainbow.N)\n",
    "cb = matplotlib.colorbar.ColorbarBase(cax, cmap='rainbow', norm=norm, ticks=range(21), boundaries=range(21))\n",
    "cb.set_label('Time in Infinite (minutes)', fontsize=23)\n",
    "cb.ax.tick_params(labelsize=16)\n",
    "cb.ax.set_yticklabels(time_wait)\n",
    "\n",
    "fig.savefig('20200916_fluo_trace_overtime_logx.pdf', bbox_inches='tight', dpi=300)"
   ]
  },
  {
   "cell_type": "markdown",
   "metadata": {},
   "source": [
    "## Extract and plot data according to time rather than concentration"
   ]
  },
  {
   "cell_type": "markdown",
   "metadata": {},
   "source": [
    "## WT Abl: Bosutinib"
   ]
  },
  {
   "cell_type": "code",
   "execution_count": null,
   "metadata": {},
   "outputs": [],
   "source": [
    "# associate reads with correct well, separate protein and buffer into separate arrays\n",
    "Abl_bos_prot_timex = np.zeros([12, 20], np.float64)\n",
    "Abl_bos_buff_timex = np.zeros([12, 20], np.float64)\n",
    "\n",
    "ncol = 12\n",
    "\n",
    "abl_bos_prot_wells = list()\n",
    "abl_bos_buff_wells = list()\n",
    "\n",
    "for well in range(ncol):\n",
    "    index = well + 1\n",
    "    prot_well_name = 'A%s' % index\n",
    "    buff_well_name = 'B%s' % index\n",
    "    abl_bos_prot_wells.append(prot_well_name)\n",
    "    abl_bos_buff_wells.append(buff_well_name)\n",
    "\n",
    "index = 0\n",
    "\n",
    "for j,i in zip(reversed(abl_bos_prot_wells),range(ncol)):\n",
    "    measurements_prot = list([reads[n][label][j] for n in range(nreads)])\n",
    "    measurements_prot = [x if x != 'OVER' else 70000 for x in measurements_prot]\n",
    "    measurements_prot = [float(i) for i in measurements_prot]\n",
    "    Abl_bos_prot_timex[i] = np.array(measurements_prot)\n",
    "                         \n",
    "for j,i in zip(reversed(abl_bos_buff_wells),range(ncol)):\n",
    "    measurements_buff = list([reads[n][label][j] for n in range(nreads)])\n",
    "    measurements_buff = [x if x != 'OVER' else 70000 for x in measurements_buff]\n",
    "    measurements_buff = [float(i) for i in measurements_buff]\n",
    "    Abl_bos_buff_timex[i] = np.array(measurements_buff)"
   ]
  },
  {
   "cell_type": "markdown",
   "metadata": {},
   "source": [
    "## WT Abl: Erlotinib"
   ]
  },
  {
   "cell_type": "code",
   "execution_count": null,
   "metadata": {},
   "outputs": [],
   "source": [
    "# associate reads with correct well, separate protein and buffer into separate arrays\n",
    "Abl_erl_prot_timex = np.zeros([12, 20], np.float64)\n",
    "Abl_erl_buff_timex = np.zeros([12, 20], np.float64)\n",
    "\n",
    "ncol = 12\n",
    "\n",
    "abl_erl_prot_wells = list()\n",
    "abl_erl_buff_wells = list()\n",
    "\n",
    "for well in range(ncol):\n",
    "    index = well + 1\n",
    "    prot_well_name = 'C%s' % index\n",
    "    buff_well_name = 'D%s' % index\n",
    "    abl_erl_prot_wells.append(prot_well_name)\n",
    "    abl_erl_buff_wells.append(buff_well_name)\n",
    "\n",
    "index = 0\n",
    "\n",
    "for j,i in zip(reversed(abl_erl_prot_wells),range(ncol)):\n",
    "    measurements_prot = list([reads[n][label][j] for n in range(nreads)])\n",
    "    measurements_prot = [x if x != 'OVER' else 70000 for x in measurements_prot]\n",
    "    measurements_prot = [float(i) for i in measurements_prot]\n",
    "    Abl_erl_prot_timex[i] = np.array(measurements_prot)\n",
    "                         \n",
    "for j,i in zip(reversed(abl_erl_buff_wells),range(ncol)):\n",
    "    measurements_buff = list([reads[n][label][j] for n in range(nreads)])\n",
    "    measurements_buff = [x if x != 'OVER' else 70000 for x in measurements_buff]\n",
    "    measurements_buff = [float(i) for i in measurements_buff]\n",
    "    Abl_erl_buff_timex[i] = np.array(measurements_buff)"
   ]
  },
  {
   "cell_type": "markdown",
   "metadata": {},
   "source": [
    "## WT Src:Bosutinib"
   ]
  },
  {
   "cell_type": "code",
   "execution_count": null,
   "metadata": {},
   "outputs": [],
   "source": [
    "# associate reads with correct well, separate protein and buffer into separate arrays\n",
    "Src_bos_prot_timex = np.zeros([12, 20], np.float64)\n",
    "Src_bos_buff_timex = np.zeros([12, 20], np.float64)\n",
    "\n",
    "ncol = 12\n",
    "\n",
    "src_bos_prot_wells = list()\n",
    "src_bos_buff_wells = list()\n",
    "\n",
    "for well in range(ncol):\n",
    "    index = well + 1\n",
    "    prot_well_name = 'E%s' % index\n",
    "    buff_well_name = 'F%s' % index\n",
    "    src_bos_prot_wells.append(prot_well_name)\n",
    "    src_bos_buff_wells.append(buff_well_name)\n",
    "\n",
    "index = 0\n",
    "\n",
    "for j,i in zip(reversed(src_bos_prot_wells),range(ncol)):\n",
    "    measurements_prot = list([reads[n][label][j] for n in range(nreads)])\n",
    "    measurements_prot = [x if x != 'OVER' else 70000 for x in measurements_prot]\n",
    "    measurements_prot = [float(i) for i in measurements_prot]\n",
    "    Src_bos_prot_timex[i] = np.array(measurements_prot)\n",
    "                         \n",
    "for j,i in zip(reversed(src_bos_buff_wells),range(ncol)):\n",
    "    measurements_buff = list([reads[n][label][j] for n in range(nreads)])\n",
    "    measurements_buff = [x if x != 'OVER' else 70000 for x in measurements_buff]\n",
    "    measurements_buff = [float(i) for i in measurements_buff]\n",
    "    Src_bos_buff_timex[i] = np.array(measurements_buff)"
   ]
  },
  {
   "cell_type": "markdown",
   "metadata": {},
   "source": [
    "## WT Src:Erlotinib"
   ]
  },
  {
   "cell_type": "code",
   "execution_count": null,
   "metadata": {},
   "outputs": [],
   "source": [
    "# associate reads with correct well, separate protein and buffer into separate arrays\n",
    "Src_erl_prot_timex = np.zeros([12, 20], np.float64)\n",
    "Src_erl_buff_timex = np.zeros([12, 20], np.float64)\n",
    "\n",
    "ncol = 12\n",
    "\n",
    "src_erl_prot_wells = list()\n",
    "src_erl_buff_wells = list()\n",
    "\n",
    "for well in range(ncol):\n",
    "    index = well + 1\n",
    "    prot_well_name = 'G%s' % index\n",
    "    buff_well_name = 'H%s' % index\n",
    "    src_erl_prot_wells.append(prot_well_name)\n",
    "    src_erl_buff_wells.append(buff_well_name)\n",
    "\n",
    "index = 0\n",
    "\n",
    "for j,i in zip(reversed(src_erl_prot_wells),range(ncol)):\n",
    "    measurements_prot = list([reads[n][label][j] for n in range(nreads)])\n",
    "    measurements_prot = [x if x != 'OVER' else 70000 for x in measurements_prot]\n",
    "    measurements_prot = [float(i) for i in measurements_prot]\n",
    "    Src_erl_prot_timex[i] = np.array(measurements_prot)\n",
    "                         \n",
    "for j,i in zip(reversed(src_erl_buff_wells),range(ncol)):\n",
    "    measurements_buff = list([reads[n][label][j] for n in range(nreads)])\n",
    "    measurements_buff = [x if x != 'OVER' else 70000 for x in measurements_buff]\n",
    "    measurements_buff = [float(i) for i in measurements_buff]\n",
    "    Src_erl_buff_timex[i] = np.array(measurements_buff)"
   ]
  },
  {
   "cell_type": "markdown",
   "metadata": {},
   "source": [
    "## Create more plotting functions"
   ]
  },
  {
   "cell_type": "code",
   "execution_count": null,
   "metadata": {},
   "outputs": [],
   "source": [
    "# plot fluo values across time with colormap of each concentration \n",
    "\n",
    "def fluo_time_plot(prot, lig, y_prot, y_buff):\n",
    "\n",
    "    for i in range(ncol):\n",
    "        # create list of timepoints (20 reads that take 5 mins per read, 17 minute wait time after the first 10 reads)\n",
    "        time = [i for i in range(nreads)] \n",
    "        time_mins = [i*5 for i in time]\n",
    "        time_wait = list()\n",
    "        for i in time_mins:\n",
    "            if i > 45:\n",
    "                i += 17\n",
    "            time_wait.append(i)\n",
    "            \n",
    "        x_values_time = time_wait\n",
    "        \n",
    "        color = cm.rainbow(np.linspace(0,1,12))\n",
    "        for read, c in zip(y_prot, color):\n",
    "            plt.plot(x_values_time, read, c=c, linestyle='solid', linewidth=2)\n",
    "        for read, c in zip(y_buff, color):\n",
    "            plt.plot(x_values_time, read, c=c, linestyle='dotted', linewidth=2)\n",
    "        \n",
    "        ax1.spines['top'].set_visible(False)\n",
    "        ax1.spines['right'].set_visible(False)\n",
    "\n",
    "        plt.tick_params(axis='x', which='both', bottom=True, top=False, labelbottom=True, labelsize=16)\n",
    "        plt.tick_params(axis='y', which='both', left=True, right=False, labelleft=True, labelsize=16)\n",
    "        \n",
    "        plt.title('%s:%s' % (prot, lig), fontsize =25)\n",
    "        anchored_text = AnchoredText('Protein = solid, Buffer = dashed',  loc='upper right', prop=dict(size=16))\n",
    "        ax1.add_artist(anchored_text)"
   ]
  },
  {
   "cell_type": "code",
   "execution_count": null,
   "metadata": {},
   "outputs": [],
   "source": [
    "# ncol = 12\n",
    "nrows=2\n",
    "ncols=2\n",
    "\n",
    "fig = plt.figure(figsize=(20,16), dpi=300)\n",
    "\n",
    "plt.subplots_adjust(hspace=0.3)\n",
    "\n",
    "ax1 = fig.add_subplot(2,2,1)\n",
    "Abl_bos = fluo_time_plot(prot='Abl WT', lig='Bosutinib', y_prot=Abl_bos_prot_timex, y_buff=Abl_bos_buff_timex)\n",
    "\n",
    "ax1 = fig.add_subplot(2,2,2)\n",
    "Abl_erl = fluo_time_plot(prot='Abl WT', lig='Erlotinib', y_prot=Abl_erl_prot_timex, y_buff=Abl_erl_buff_timex)\n",
    "\n",
    "ax1 = fig.add_subplot(2,2,3)\n",
    "Src_bos = fluo_time_plot(prot='Src WT', lig='Bosutinib', y_prot=Src_bos_prot_timex, y_buff=Src_bos_buff_timex)\n",
    "\n",
    "axis = plt.gca()\n",
    "plt.ylabel('Fluorescence Intensity (rfu)', fontsize=24)\n",
    "axis.yaxis.set_label_coords(-0.15,1.25)\n",
    "plt.xlabel('Time (minutes)', fontsize=24)\n",
    "axis.xaxis.set_label_coords(1,-0.2)\n",
    "\n",
    "ax1 = fig.add_subplot(2,2,4)\n",
    "Src_erl = fluo_time_plot(prot='Src WT', lig='Erlotinib', y_prot=Src_erl_prot_timex, y_buff=Src_erl_buff_timex)\n",
    "\n",
    "cax = fig.add_axes([.92, 0.127, 0.03, 0.75])\n",
    "\n",
    "micro_concentrations = np.multiply(concentrations, 1e6)\n",
    "norm = matplotlib.colors.BoundaryNorm(micro_concentrations, cm.rainbow.N)\n",
    "conc_labels = ['{0:.3f}'.format(x) for x in micro_concentrations]\n",
    "cb = matplotlib.colorbar.ColorbarBase(cax, cmap='rainbow', norm=norm, ticks=micro_concentrations, boundaries=micro_concentrations)\n",
    "cb.set_label('Ligand Concentration ($\\mu$M)', fontsize=35, fontweight='bold')\n",
    "cb.ax.tick_params(labelsize=25)\n",
    "cb.ax.set_yticklabels(conc_labels)\n",
    "\n",
    "\n",
    "fig.savefig('20200916_well_values_overtime.pdf', bbox_inches='tight', dpi=300)"
   ]
  }
 ],
 "metadata": {
  "kernelspec": {
   "display_name": "Python 3",
   "language": "python",
   "name": "python3"
  },
  "language_info": {
   "codemirror_mode": {
    "name": "ipython",
    "version": 3
   },
   "file_extension": ".py",
   "mimetype": "text/x-python",
   "name": "python",
   "nbconvert_exporter": "python",
   "pygments_lexer": "ipython3",
   "version": "3.7.3"
  }
 },
 "nbformat": 4,
 "nbformat_minor": 2
}
