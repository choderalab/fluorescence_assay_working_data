{
 "cells": [
  {
   "cell_type": "code",
   "execution_count": 1,
   "metadata": {
    "collapsed": true
   },
   "outputs": [],
   "source": [
    "import numpy as np\n",
    "from glob import glob\n",
    "\n",
    "inputs = {\n",
    "    'xml_file_path' :  \".\",\n",
    "    'file_set'      :  {'p38': glob( \"./*.xml\")},\n",
    "    'section'       :  '280_480_TOP_120',\n",
    "    'ligand_order'  :  ['Gef1','Gef2','Gef3'],\n",
    "    'Lstated'       :  np.array([20.0e-6,14.0e-6,9.82e-6,6.88e-6,4.82e-6,3.38e-6,2.37e-6,1.66e-6,1.16e-6,0.815e-6,0.571e-6,0.4e-6,0.28e-6,0.196e-6,0.138e-6,0.0964e-6,0.0676e-6,0.0474e-6,0.0320e-6,0.0240e-6,0.0160e-6,0.0120e-6,0.008e-6,0.0], np.float64), # ligand concentration, M\n",
    "    'Pstated'       :  0.5e-6 * np.ones([24],np.float64), # protein concentration, M\n",
    "    'assay_volume'  :  50e-6, # assay volume, L\n",
    "    'well_area'     :  0.1369, # well area, cm^2 for 4ti-0203 [http://4ti.co.uk/files/3113/4217/2464/4ti-0201.pdf]\n",
    "    }"
   ]
  },
  {
   "cell_type": "code",
   "execution_count": 2,
   "metadata": {
    "collapsed": true
   },
   "outputs": [],
   "source": [
    "from assaytools import parser"
   ]
  },
  {
   "cell_type": "code",
   "execution_count": 3,
   "metadata": {
    "collapsed": false
   },
   "outputs": [
    {
     "name": "stdout",
     "output_type": "stream",
     "text": [
      "Populating the interactive namespace from numpy and matplotlib\n"
     ]
    }
   ],
   "source": [
    "import matplotlib.pyplot as plt\n",
    "%pylab inline"
   ]
  },
  {
   "cell_type": "code",
   "execution_count": 4,
   "metadata": {
    "collapsed": false
   },
   "outputs": [],
   "source": [
    "[complex_fluorescence, ligand_fluorescence] = parser.get_data_using_inputs(inputs)  "
   ]
  },
  {
   "cell_type": "code",
   "execution_count": 5,
   "metadata": {
    "collapsed": false
   },
   "outputs": [
    {
     "data": {
      "text/plain": [
       "['p38-Gef1-AB', 'p38-Gef2-CD', 'p38-Gef3-EF']"
      ]
     },
     "execution_count": 5,
     "metadata": {},
     "output_type": "execute_result"
    }
   ],
   "source": [
    "complex_fluorescence.keys()"
   ]
  },
  {
   "cell_type": "code",
   "execution_count": 6,
   "metadata": {
    "collapsed": false
   },
   "outputs": [
    {
     "data": {
      "text/plain": [
       "array([ 1831.,  1759.,  1870.,  1713.,  1635.,  1728.,  1665.,  1557.,\n",
       "        1712.,  1766.,  1711.,  1859.,  1801.,  1730.,  1883.,  1707.,\n",
       "        1651.,  1770.,  2229.,  2149.,  1778.,  1782.,  2109.,  2142.])"
      ]
     },
     "execution_count": 6,
     "metadata": {},
     "output_type": "execute_result"
    }
   ],
   "source": [
    "complex_fluorescence['p38-Gef1-AB']"
   ]
  },
  {
   "cell_type": "code",
   "execution_count": 12,
   "metadata": {
    "collapsed": false
   },
   "outputs": [
    {
     "data": {
      "text/plain": [
       "[-4, 1, 6, 11, 16, 21]"
      ]
     },
     "execution_count": 12,
     "metadata": {},
     "output_type": "execute_result"
    }
   ],
   "source": [
    "range(-4,25,5)"
   ]
  },
  {
   "cell_type": "code",
   "execution_count": null,
   "metadata": {
    "collapsed": true
   },
   "outputs": [],
   "source": [
    "complex_fluorescence['p38-Gef1-AB'].inde"
   ]
  },
  {
   "cell_type": "code",
   "execution_count": 24,
   "metadata": {
    "collapsed": false
   },
   "outputs": [
    {
     "data": {
      "text/plain": [
       "[<matplotlib.lines.Line2D at 0x1208c82d0>]"
      ]
     },
     "execution_count": 24,
     "metadata": {},
     "output_type": "execute_result"
    },
    {
     "data": {
      "image/png": "[encoded data removed]",
      "text/plain": [
       "<matplotlib.figure.Figure at 0x12070aa90>"
      ]
     },
     "metadata": {},
     "output_type": "display_data"
    }
   ],
   "source": [
    "plt.plot(complex_fluorescence['p38-Gef1-AB'][0:8],marker='o',linestyle='None',color='C0')\n",
    "plt.plot(ligand_fluorescence['p38-Gef1-AB'][0:8],marker='.',linestyle='None',color='C0')\n",
    "plt.plot(complex_fluorescence['p38-Gef2-CD'][0:8],marker='o',linestyle='None',color='C1')\n",
    "plt.plot(ligand_fluorescence['p38-Gef2-CD'][0:8],marker='.',linestyle='None',color='C1')\n",
    "plt.plot(complex_fluorescence['p38-Gef3-EF'][0:8],marker='o',linestyle='None',color='C2')\n",
    "plt.plot(ligand_fluorescence['p38-Gef3-EF'][0:8],marker='.',linestyle='None',color='C2')"
   ]
  },
  {
   "cell_type": "code",
   "execution_count": 25,
   "metadata": {
    "collapsed": false
   },
   "outputs": [
    {
     "data": {
      "text/plain": [
       "[<matplotlib.lines.Line2D at 0x120874390>]"
      ]
     },
     "execution_count": 25,
     "metadata": {},
     "output_type": "execute_result"
    },
    {
     "data": {
      "image/png": "[encoded data removed]",
      "text/plain": [
       "<matplotlib.figure.Figure at 0x1202e9050>"
      ]
     },
     "metadata": {},
     "output_type": "display_data"
    }
   ],
   "source": [
    "plt.plot(complex_fluorescence['p38-Gef3-EF'][0:8],marker='o',linestyle='None',color='C2')\n",
    "plt.plot(ligand_fluorescence['p38-Gef3-EF'][0:8],marker='.',linestyle='None',color='C2')"
   ]
  },
  {
   "cell_type": "code",
   "execution_count": 26,
   "metadata": {
    "collapsed": true
   },
   "outputs": [],
   "source": [
    "inputs = {\n",
    "    'xml_file_path' :  \".\",\n",
    "    'file_set'      :  {'p38': glob( \"./*.xml\")},\n",
    "    'section'       :  '280_480_TOP_100',\n",
    "    'ligand_order'  :  ['Gef1','Gef2','Gef3'],\n",
    "    'Lstated'       :  np.array([20.0e-6,14.0e-6,9.82e-6,6.88e-6,4.82e-6,3.38e-6,2.37e-6,1.66e-6,1.16e-6,0.815e-6,0.571e-6,0.4e-6,0.28e-6,0.196e-6,0.138e-6,0.0964e-6,0.0676e-6,0.0474e-6,0.0320e-6,0.0240e-6,0.0160e-6,0.0120e-6,0.008e-6,0.0], np.float64), # ligand concentration, M\n",
    "    'Pstated'       :  0.5e-6 * np.ones([24],np.float64), # protein concentration, M\n",
    "    'assay_volume'  :  50e-6, # assay volume, L\n",
    "    'well_area'     :  0.1369, # well area, cm^2 for 4ti-0203 [http://4ti.co.uk/files/3113/4217/2464/4ti-0201.pdf]\n",
    "    }"
   ]
  },
  {
   "cell_type": "code",
   "execution_count": 27,
   "metadata": {
    "collapsed": true
   },
   "outputs": [],
   "source": [
    "[complex_fluorescence_100, ligand_fluorescence_100] = parser.get_data_using_inputs(inputs)  "
   ]
  },
  {
   "cell_type": "code",
   "execution_count": 28,
   "metadata": {
    "collapsed": false
   },
   "outputs": [
    {
     "data": {
      "text/plain": [
       "[<matplotlib.lines.Line2D at 0x120c6fb90>]"
      ]
     },
     "execution_count": 28,
     "metadata": {},
     "output_type": "execute_result"
    },
    {
     "data": {
      "image/png": "[encoded data removed]",
      "text/plain": [
       "<matplotlib.figure.Figure at 0x1209c0090>"
      ]
     },
     "metadata": {},
     "output_type": "display_data"
    }
   ],
   "source": [
    "plt.plot(complex_fluorescence_100['p38-Gef1-AB'][0:8],marker='o',linestyle='None',color='C0')\n",
    "plt.plot(ligand_fluorescence_100['p38-Gef1-AB'][0:8],marker='.',linestyle='None',color='C0')\n",
    "plt.plot(complex_fluorescence_100['p38-Gef2-CD'][0:8],marker='o',linestyle='None',color='C1')\n",
    "plt.plot(ligand_fluorescence_100['p38-Gef2-CD'][0:8],marker='.',linestyle='None',color='C1')\n",
    "plt.plot(complex_fluorescence_100['p38-Gef3-EF'][0:8],marker='o',linestyle='None',color='C2')\n",
    "plt.plot(ligand_fluorescence_100['p38-Gef3-EF'][0:8],marker='.',linestyle='None',color='C2')"
   ]
  },
  {
   "cell_type": "code",
   "execution_count": null,
   "metadata": {
    "collapsed": true
   },
   "outputs": [],
   "source": []
  }
 ],
 "metadata": {
  "kernelspec": {
   "display_name": "Python 2",
   "language": "python",
   "name": "python2"
  },
  "language_info": {
   "codemirror_mode": {
    "name": "ipython",
    "version": 2
   },
   "file_extension": ".py",
   "mimetype": "text/x-python",
   "name": "python",
   "nbconvert_exporter": "python",
   "pygments_lexer": "ipython2",
   "version": "2.7.13"
  }
 },
 "nbformat": 4,
 "nbformat_minor": 2
}
