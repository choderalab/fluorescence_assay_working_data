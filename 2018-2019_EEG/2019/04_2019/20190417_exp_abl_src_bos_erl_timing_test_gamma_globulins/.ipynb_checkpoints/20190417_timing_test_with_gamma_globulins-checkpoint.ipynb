{
 "cells": [
  {
   "cell_type": "markdown",
   "metadata": {},
   "source": [
    "# Multiple well assay with leftover dialyzed 0.5 uM Abl WT & Src WT and  bosutinib, erlotinib, & DMSO. Protein and buffer spiked with gamma globulins (final concentration 0.1 mg/mL)"
   ]
  },
  {
   "cell_type": "markdown",
   "metadata": {},
   "source": [
    "## Tested single wv reads at ex 280/em 480, with emission bandwidth 10 & 20 nm. Tried these reads at gains 70, 80, 90, 100 for a total of 8 reads for each well. "
   ]
  },
  {
   "cell_type": "code",
   "execution_count": 2,
   "metadata": {},
   "outputs": [
    {
     "name": "stdout",
     "output_type": "stream",
     "text": [
      "[0, 5, 10, 15, 20, 25, 30, 35, 40, 45, 50, 55, 60, 65, 70, 75, 80, 85, 90, 95]\n"
     ]
    }
   ],
   "source": [
    "time = [i for i in range(20)] \n",
    "time_mins = list([i*5 for i in time])\n",
    "print(time_mins)\n",
    "\n",
    "for i in time_mins:\n",
    "    if i "
   ]
  },
  {
   "cell_type": "code",
   "execution_count": null,
   "metadata": {},
   "outputs": [],
   "source": [
    "# %load kinase_single_well_spectra_experiment\n",
    "\n",
    "\n",
    "# get_ipython().run_line_magic('matplotlib', 'inline')\n",
    "%matplotlib inline \n",
    "import matplotlib.pyplot as plt\n",
    "import seaborn as sns\n",
    "import numpy as np\n",
    "import os\n",
    "from matplotlib.offsetbox import AnchoredText\n",
    "import matplotlib.cm as cm\n",
    "import pandas as pd\n",
    "from lxml import etree\n",
    "from matplotlib.ticker import FormatStrFormatter\n",
    "from matplotlib.ticker import FormatStrFormatter\n",
    "import matplotlib\n",
    "from glob import glob\n",
    "\n",
    "\n",
    "# In[13]:\n",
    "\n",
    "\n",
    "import assaytools\n",
    "\n",
    "\n",
    "# In[14]:\n",
    "\n",
    "\n",
    "from assaytools import platereader\n",
    "\n",
    "\n",
    "filenames = ['Abl_Src_Bos_Erl_timing_1_20190411_121150.xml',\n",
    "            'Abl_Src_Bos_Erl_timing_2_20190411_121647.xml',\n",
    "            'Abl_Src_Bos_Erl_timing_3_20190411_122146.xml',\n",
    "            'Abl_Src_Bos_Erl_timing_4_20190411_122644.xml',\n",
    "            'Abl_Src_Bos_Erl_timing_5_20190411_123142.xml',\n",
    "            'Abl_Src_Bos_Erl_timing_6_20190411_123640.xml',\n",
    "            'Abl_Src_Bos_Erl_timing_7_20190411_124138.xml',\n",
    "            'Abl_Src_Bos_Erl_timing_8_20190411_124636.xml',\n",
    "            'Abl_Src_Bos_Erl_timing_9_20190411_125134.xml',\n",
    "            'Abl_Src_Bos_Erl_timing_10_20190411_125632.xml',\n",
    "            'Abl_Src_Bos_Erl_timing_11_20190411_131500.xml',\n",
    "            'Abl_Src_Bos_Erl_timing_12_20190411_131958.xml',\n",
    "            'Abl_Src_Bos_Erl_timing_13_20190411_132456.xml',\n",
    "            'Abl_Src_Bos_Erl_timing_14_20190411_132954.xml',\n",
    "            'Abl_Src_Bos_Erl_timing_15_20190411_133452.xml',\n",
    "            'Abl_Src_Bos_Erl_timing_16_20190411_133952.xml',\n",
    "            'Abl_Src_Bos_Erl_timing_17_20190411_134450.xml',\n",
    "            'Abl_Src_Bos_Erl_timing_18_20190411_134948.xml',\n",
    "            'Abl_Src_Bos_Erl_timing_19_20190411_135446.xml',\n",
    "            'Abl_Src_Bos_Erl_timing_20_20190411_135944.xml',]\n",
    "\n",
    "datapath = 'infinite_results'\n",
    "\n",
    "\n",
    "# In[16]:\n",
    "\n",
    "\n",
    "concentrations = np.array([  0.00000000e+00,   8.00000000e-09,   1.75e-08,\n",
    "         3.83e-08,   8.37e-08,   1.83e-07,\n",
    "         4e-07,   8.75e-07,   1.91e-06,\n",
    "         4.18e-06,   9.15e-06,   2e-05])\n",
    "\n",
    "\n",
    "# In[17]:\n",
    "\n",
    "reads = list()\n",
    "nreads = len(filenames)\n",
    "for read in range(nreads):\n",
    "    read = platereader.read_icontrol_xml(os.path.join(datapath, filenames[read]))\n",
    "    reads.append(read)"
   ]
  },
  {
   "cell_type": "code",
   "execution_count": null,
   "metadata": {},
   "outputs": [],
   "source": [
    "# create list of section names to iterate over\n",
    "labels = list('%s' % j for j in read)\n",
    "\n",
    "# delete last item in list which is absorbance reading\n",
    "del labels[-1]"
   ]
  },
  {
   "cell_type": "markdown",
   "metadata": {},
   "source": [
    "## Create functions for plotting"
   ]
  },
  {
   "cell_type": "code",
   "execution_count": null,
   "metadata": {},
   "outputs": [],
   "source": [
    "# plot first read across concentrations with colormap of each setting, logx with or without buffer  \n",
    "\n",
    "def logx_concx(buffer, prot1, prot2, lig1, lig2, y1_prot, y1_buff, y2_prot, y2_buff, y3_prot, y3_buff, y4_prot, y4_buff):\n",
    "\n",
    "    protein_color = cm.rainbow(np.linspace(0,1,8))\n",
    "    buffer_color = cm.Greys(np.linspace(0,1,8))\n",
    "\n",
    "    fig = plt.figure(figsize=(20,16), dpi=300)\n",
    "    plt.suptitle('Fluorescence at 480 nm (Settings Testing)', fontsize=45, fontweight='bold')\n",
    "\n",
    "    # make 4 plots, one for each ligand:protein pair at 480 nm Em\n",
    "    # Plot fluorescence pair 1\n",
    "    ax1 = fig.add_subplot(2,2,1)\n",
    "\n",
    "    index = 0\n",
    "    for label,c in zip(labels, protein_color):\n",
    "        if buffer == 'yes':\n",
    "            plt.semilogx(concentrations, np.flip(y1_prot[index], axis=0), c=c, linewidth=2)\n",
    "            plt.semilogx(concentrations, np.flip(y1_buff[index], axis=0), c=c, linewidth=2, linestyle='dashed')\n",
    "            plt.legend(['protein', 'buffer'], loc=2, prop={'size': 16})\n",
    "        else:\n",
    "            plt.semilogx(concentrations, np.flip(y1_prot[index], axis=0), c=c, linewidth=2)\n",
    "        ax1.set_ylim(0, 65000)\n",
    "\n",
    "        ax1.yaxis.set_tick_params(labelsize=18)\n",
    "        ax1.xaxis.set_tick_params(labelsize=18)\n",
    "        plt.title('%s:%s' %(prot1,lig1), fontsize=30)\n",
    "        index += 1\n",
    "\n",
    "    # Plot fluorescence pair 2\n",
    "    ax1 = fig.add_subplot(2,2,2)\n",
    "\n",
    "    index = 0\n",
    "    for label,c in zip(labels, protein_color):\n",
    "        if buffer == 'yes':\n",
    "            plt.semilogx(concentrations, np.flip(y2_prot[index], axis=0), c=c, linewidth=2)\n",
    "            plt.semilogx(concentrations, np.flip(y2_buff[index], axis=0), c=c, linewidth=2, linestyle='dashed')\n",
    "            plt.legend(['protein', 'buffer'], loc=2, prop={'size': 16})\n",
    "        else:\n",
    "            plt.semilogx(concentrations, np.flip(y2_prot[index], axis=0), c=c, linewidth=2)\n",
    "        ax1.set_ylim(0, 65000)\n",
    "\n",
    "        ax1.yaxis.set_tick_params(labelsize=18)\n",
    "        ax1.xaxis.set_tick_params(labelsize=18)\n",
    "        plt.title('%s:%s' %(prot1,lig2), fontsize=30)\n",
    "        index += 1\n",
    "\n",
    "    # Plot fluorescence pair 3\n",
    "    ax1 = fig.add_subplot(2,2,3)\n",
    "\n",
    "    index = 0\n",
    "    for label,c in zip(labels, protein_color):\n",
    "        if buffer == 'yes':\n",
    "            plt.semilogx(concentrations, np.flip(y3_prot[index], axis=0), c=c, linewidth=2)\n",
    "            plt.semilogx(concentrations, np.flip(y3_buff[index], axis=0), c=c, linewidth=2, linestyle='dashed')\n",
    "            plt.legend(['protein', 'buffer'], loc=2, prop={'size': 16})\n",
    "        else:\n",
    "            plt.semilogx(concentrations, np.flip(y3_prot[index], axis=0), c=c, linewidth=2)\n",
    "        ax1.set_ylim(0, 65000)\n",
    "\n",
    "        ax1.yaxis.set_tick_params(labelsize=18)\n",
    "        ax1.xaxis.set_tick_params(labelsize=18)\n",
    "        plt.title('%s:%s' %(prot2,lig1), fontsize=30)\n",
    "        index += 1\n",
    "\n",
    "    axis = plt.gca()\n",
    "    plt.ylabel('Fluorescence Units', fontsize=40, fontweight='bold')\n",
    "    axis.yaxis.set_label_coords(-0.25,1.25)\n",
    "    plt.xlabel('Concentration (M)', fontsize=40, fontweight='bold')\n",
    "    axis.xaxis.set_label_coords(1,-0.25)\n",
    "\n",
    "    # Plot fluorescence pair 4\n",
    "    ax1 = fig.add_subplot(2,2,4)\n",
    "\n",
    "    index = 0\n",
    "    for label,c in zip(labels, protein_color):\n",
    "        if buffer == 'yes':\n",
    "            plt.semilogx(concentrations, np.flip(y4_prot[index], axis=0), c=c, linewidth=2)\n",
    "            plt.semilogx(concentrations, np.flip(y4_buff[index], axis=0), c=c, linewidth=2, linestyle='dashed')\n",
    "            plt.legend(['protein', 'buffer'], loc=2, prop={'size': 16})\n",
    "        else:\n",
    "            plt.semilogx(concentrations, np.flip(y4_prot[index], axis=0), c=c, linewidth=2)\n",
    "            \n",
    "        ax1.set_ylim(0, 65000)\n",
    "\n",
    "        ax1.yaxis.set_tick_params(labelsize=18)\n",
    "        ax1.xaxis.set_tick_params(labelsize=18)\n",
    "        plt.title('%s:%s' %(prot2,lig2), fontsize=30)\n",
    "        index += 1\n",
    "\n",
    "    cax = fig.add_axes([.92, 0.127, 0.03, 0.75])\n",
    "\n",
    "    norm = matplotlib.colors.BoundaryNorm(range(9), cm.rainbow.N)\n",
    "    cb = matplotlib.colorbar.ColorbarBase(cax, cmap='rainbow', norm=norm, ticks=range(9), boundaries=range(9))\n",
    "    cb.set_label('Infinite Settings', fontsize=40, fontweight='bold')\n",
    "    cb.ax.tick_params(labelsize=18)\n",
    "    cb.ax.set_yticklabels(labels)\n",
    "\n",
    "\n",
    "    fig.savefig('20190411_timing_test_settings_buffer_%s_logx.pdf' % buffer, dpi=300, bbox_inches='tight')"
   ]
  },
  {
   "cell_type": "code",
   "execution_count": null,
   "metadata": {},
   "outputs": [],
   "source": [
    "# plot first read across concentrations with colormap of each setting, loglog with or without buffer  \n",
    "\n",
    "def loglog_concx(buffer, prot1, prot2, lig1, lig2, y1_prot, y1_buff, y2_prot, y2_buff, y3_prot, y3_buff, y4_prot, y4_buff):\n",
    "\n",
    "    protein_color = cm.rainbow(np.linspace(0,1,8))\n",
    "    buffer_color = cm.Greys(np.linspace(0,1,8))\n",
    "\n",
    "    fig = plt.figure(figsize=(20,16), dpi=300)\n",
    "    plt.suptitle('Fluorescence at 480 nm (Settings Testing)', fontsize=45, fontweight='bold')\n",
    "\n",
    "    # make 4 plots, one for each ligand:protein pair at 480 nm Em\n",
    "    # Plot fluorescence pair 1\n",
    "    ax1 = fig.add_subplot(2,2,1)\n",
    "\n",
    "    index = 0\n",
    "    for label,c in zip(labels, protein_color):\n",
    "        if buffer == 'yes':\n",
    "            plt.loglog(concentrations, np.flip(y1_prot[index], axis=0), c=c, linewidth=2)\n",
    "            plt.loglog(concentrations, np.flip(y1_buff[index], axis=0), c=c, linewidth=2, linestyle='dashed')\n",
    "            plt.legend(['protein', 'buffer'], loc=2, prop={'size': 16})\n",
    "        else:\n",
    "            plt.loglog(concentrations, np.flip(y1_prot[index], axis=0), c=c, linewidth=2)\n",
    "        ax1.set_ylim(0, 65000)\n",
    "\n",
    "        ax1.yaxis.set_tick_params(labelsize=18)\n",
    "        ax1.xaxis.set_tick_params(labelsize=18)\n",
    "        plt.title('%s:%s' %(prot1,lig1), fontsize=30)\n",
    "        index += 1\n",
    "\n",
    "    # Plot fluorescence pair 2\n",
    "    ax1 = fig.add_subplot(2,2,2)\n",
    "\n",
    "    index = 0\n",
    "    for label,c in zip(labels, protein_color):\n",
    "        if buffer == 'yes':\n",
    "            plt.loglog(concentrations, np.flip(y2_prot[index], axis=0), c=c, linewidth=2)\n",
    "            plt.loglog(concentrations, np.flip(y2_buff[index], axis=0), c=c, linewidth=2, linestyle='dashed')\n",
    "            plt.legend(['protein', 'buffer'], loc=2, prop={'size': 16})\n",
    "        else:\n",
    "            plt.loglog(concentrations, np.flip(y2_prot[index], axis=0), c=c, linewidth=2)\n",
    "        ax1.set_ylim(0, 65000)\n",
    "\n",
    "        ax1.yaxis.set_tick_params(labelsize=18)\n",
    "        ax1.xaxis.set_tick_params(labelsize=18)\n",
    "        plt.title('%s:%s' %(prot1,lig2), fontsize=30)\n",
    "        index += 1\n",
    "\n",
    "    # Plot fluorescence pair 3\n",
    "    ax1 = fig.add_subplot(2,2,3)\n",
    "\n",
    "    index = 0\n",
    "    for label,c in zip(labels, protein_color):\n",
    "        if buffer == 'yes':\n",
    "            plt.loglog(concentrations, np.flip(y3_prot[index], axis=0), c=c, linewidth=2)\n",
    "            plt.loglog(concentrations, np.flip(y3_buff[index], axis=0), c=c, linewidth=2, linestyle='dashed')\n",
    "            plt.legend(['protein', 'buffer'], loc=2, prop={'size': 16})\n",
    "        else:\n",
    "            plt.loglog(concentrations, np.flip(y3_prot[index], axis=0), c=c, linewidth=2)\n",
    "        ax1.set_ylim(0, 65000)\n",
    "\n",
    "        ax1.yaxis.set_tick_params(labelsize=18)\n",
    "        ax1.xaxis.set_tick_params(labelsize=18)\n",
    "        plt.title('%s:%s' %(prot2,lig1), fontsize=30)\n",
    "        index += 1\n",
    "\n",
    "    axis = plt.gca()\n",
    "    plt.ylabel('Fluorescence Units', fontsize=40, fontweight='bold')\n",
    "    axis.yaxis.set_label_coords(-0.25,1.25)\n",
    "    plt.xlabel('Concentration (M)', fontsize=40, fontweight='bold')\n",
    "    axis.xaxis.set_label_coords(1,-0.25)\n",
    "\n",
    "    # Plot fluorescence pair 4\n",
    "    ax1 = fig.add_subplot(2,2,4)\n",
    "\n",
    "    index = 0\n",
    "    for label,c in zip(labels, protein_color):\n",
    "        if buffer == 'yes':\n",
    "            plt.loglog(concentrations, np.flip(y4_prot[index], axis=0), c=c, linewidth=2)\n",
    "            plt.loglog(concentrations, np.flip(y4_buff[index], axis=0), c=c, linewidth=2, linestyle='dashed')\n",
    "            plt.legend(['protein', 'buffer'], loc=2, prop={'size': 16})\n",
    "        else:\n",
    "            plt.loglog(concentrations, np.flip(y4_prot[index], axis=0), c=c, linewidth=2)\n",
    "            \n",
    "        ax1.set_ylim(0, 65000)\n",
    "\n",
    "        ax1.yaxis.set_tick_params(labelsize=18)\n",
    "        ax1.xaxis.set_tick_params(labelsize=18)\n",
    "        plt.title('%s:%s' %(prot2,lig2), fontsize=30)\n",
    "        index += 1\n",
    "\n",
    "    cax = fig.add_axes([.92, 0.127, 0.03, 0.75])\n",
    "\n",
    "    norm = matplotlib.colors.BoundaryNorm(range(9), cm.rainbow.N)\n",
    "    cb = matplotlib.colorbar.ColorbarBase(cax, cmap='rainbow', norm=norm, ticks=range(9), boundaries=range(9))\n",
    "    cb.set_label('Infinite Settings', fontsize=40, fontweight='bold')\n",
    "    cb.ax.tick_params(labelsize=18)\n",
    "    cb.ax.set_yticklabels(labels)\n",
    "\n",
    "\n",
    "    fig.savefig('20190411_timing_test_settings_buffer_%s_loglog.pdf' % buffer, dpi=300, bbox_inches='tight')"
   ]
  },
  {
   "cell_type": "markdown",
   "metadata": {},
   "source": [
    "## Extract data and plot each protein:ligand pair for the first read"
   ]
  },
  {
   "cell_type": "code",
   "execution_count": null,
   "metadata": {},
   "outputs": [],
   "source": [
    "# associate reads with correct well, separate protein and buffer into separate arrays\n",
    "Abl_bos_prot = np.zeros([10, 12], np.float64)\n",
    "Abl_bos_buff = np.zeros([10, 12], np.float64)\n",
    "\n",
    "ncol = 12\n",
    "\n",
    "abl_bos_prot_wells = list()\n",
    "abl_bos_buff_wells = list()\n",
    "for well in range(ncol):\n",
    "    index = well + 1\n",
    "    prot_well_name = 'A%s' % index\n",
    "    buff_well_name = 'B%s' % index\n",
    "    abl_bos_prot_wells.append(prot_well_name)\n",
    "    abl_bos_buff_wells.append(buff_well_name)\n",
    "\n",
    "index = 0\n",
    "for label in labels:\n",
    "    measurements_prot = [reads[0][label][j] for j in abl_bos_prot_wells]\n",
    "    measurements_prot = [i if i != 'OVER' else 70000 for i in measurements_prot]\n",
    "    measurements_buff = [reads[0][label][j] for j in abl_bos_buff_wells]\n",
    "    measurements_buff = [i if i != 'OVER' else 70000 for i in measurements_buff]\n",
    "    Abl_bos_prot[index] = np.array(measurements_prot)\n",
    "    Abl_bos_buff[index] = np.array(measurements_buff)\n",
    "\n",
    "    index += 1\n",
    "    \n",
    "\n",
    "Abl_erl_prot = np.zeros([10, 12], np.float64)\n",
    "Abl_erl_buff = np.zeros([10, 12], np.float64)\n",
    "\n",
    "abl_erl_prot_wells = list()\n",
    "abl_erl_buff_wells = list()\n",
    "for well in range(ncol):\n",
    "    index = well + 1\n",
    "    prot_well_name = 'C%s' % index\n",
    "    buff_well_name = 'D%s' % index\n",
    "    abl_erl_prot_wells.append(prot_well_name)\n",
    "    abl_erl_buff_wells.append(buff_well_name)\n",
    "\n",
    "index = 0\n",
    "for label in labels:\n",
    "    measurements_prot = [reads[0][label][j] for j in abl_erl_prot_wells]\n",
    "    measurements_prot = [i if i != 'OVER' else 70000 for i in measurements_prot]\n",
    "    measurements_buff = [reads[0][label][j] for j in abl_erl_buff_wells]\n",
    "    measurements_buff = [i if i != 'OVER' else 70000 for i in measurements_buff]\n",
    "    Abl_erl_prot[index] = np.array(measurements_prot)\n",
    "    Abl_erl_buff[index] = np.array(measurements_buff)\n",
    "\n",
    "    index += 1\n",
    "    \n",
    "\n",
    "Src_bos_prot = np.zeros([10, 12], np.float64)\n",
    "Src_bos_buff = np.zeros([10, 12], np.float64)\n",
    "\n",
    "src_bos_prot_wells = list()\n",
    "src_bos_buff_wells = list()\n",
    "for well in range(ncol):\n",
    "    index = well + 1\n",
    "    prot_well_name = 'E%s' % index\n",
    "    buff_well_name = 'F%s' % index\n",
    "    src_bos_prot_wells.append(prot_well_name)\n",
    "    src_bos_buff_wells.append(buff_well_name)\n",
    "\n",
    "index = 0\n",
    "for label in labels:\n",
    "    measurements_prot = [reads[0][label][j] for j in src_bos_prot_wells]\n",
    "    measurements_prot = [i if i != 'OVER' else 70000 for i in measurements_prot]\n",
    "    measurements_buff = [reads[0][label][j] for j in src_bos_buff_wells]\n",
    "    measurements_buff = [i if i != 'OVER' else 70000 for i in measurements_buff]\n",
    "    Src_bos_prot[index] = np.array(measurements_prot)\n",
    "    Src_bos_buff[index] = np.array(measurements_buff)\n",
    "\n",
    "    index += 1\n",
    "    \n",
    "\n",
    "Src_erl_prot = np.zeros([10, 12], np.float64)\n",
    "Src_erl_buff = np.zeros([10, 12], np.float64)\n",
    "\n",
    "src_erl_prot_wells = list()\n",
    "src_erl_buff_wells = list()\n",
    "for well in range(ncol):\n",
    "    index = well + 1\n",
    "    prot_well_name = 'G%s' % index\n",
    "    buff_well_name = 'H%s' % index\n",
    "    src_erl_prot_wells.append(prot_well_name)\n",
    "    src_erl_buff_wells.append(buff_well_name)\n",
    "\n",
    "index = 0\n",
    "for label in labels:\n",
    "    measurements_prot = [reads[0][label][j] for j in src_erl_prot_wells]\n",
    "    measurements_prot = [i if i != 'OVER' else 70000 for i in measurements_prot]\n",
    "    measurements_buff = [reads[0][label][j] for j in src_erl_buff_wells]\n",
    "    measurements_buff = [i if i != 'OVER' else 70000 for i in measurements_buff]\n",
    "    Src_erl_prot[index] = np.array(measurements_prot)\n",
    "    Src_erl_buff[index] = np.array(measurements_buff)\n",
    "    index += 1   \n",
    "    "
   ]
  },
  {
   "cell_type": "markdown",
   "metadata": {},
   "source": [
    "### Plot logx with buffer"
   ]
  },
  {
   "cell_type": "code",
   "execution_count": null,
   "metadata": {},
   "outputs": [],
   "source": [
    "fig = logx_concx(buffer='yes', prot1='Abl WT', prot2='Src WT', lig1='Bosutinib', lig2='Erlotinib', y1_prot=Abl_bos_prot, y1_buff=Abl_bos_buff, y2_prot=Abl_erl_prot, y2_buff=Abl_erl_prot, y3_prot=Src_bos_prot, y3_buff=Src_bos_buff, y4_prot=Src_erl_prot, y4_buff=Src_erl_buff)"
   ]
  },
  {
   "cell_type": "markdown",
   "metadata": {},
   "source": [
    "### Plot logx without buffer"
   ]
  },
  {
   "cell_type": "code",
   "execution_count": null,
   "metadata": {},
   "outputs": [],
   "source": [
    "fig = logx_concx(buffer='no', prot1='WT Abl', prot2='WT Src', lig1='Bosutinib', lig2='Erlotinib', y1_prot=Abl_bos_prot, y1_buff=Abl_bos_buff, y2_prot=Abl_erl_prot, y2_buff=Abl_erl_prot, y3_prot=Src_bos_prot, y3_buff=Src_bos_buff, y4_prot=Src_erl_prot, y4_buff=Src_erl_buff)"
   ]
  },
  {
   "cell_type": "markdown",
   "metadata": {},
   "source": [
    "### Plot loglog with buffer"
   ]
  },
  {
   "cell_type": "code",
   "execution_count": null,
   "metadata": {},
   "outputs": [],
   "source": [
    "fig = loglog_concx(buffer='yes', prot1='WT Abl', prot2='WT Src', lig1='Bosutinib', lig2='Erlotinib', y1_prot=Abl_bos_prot, y1_buff=Abl_bos_buff, y2_prot=Abl_erl_prot, y2_buff=Abl_erl_prot, y3_prot=Src_bos_prot, y3_buff=Src_bos_buff, y4_prot=Src_erl_prot, y4_buff=Src_erl_buff)"
   ]
  },
  {
   "cell_type": "markdown",
   "metadata": {},
   "source": [
    "### Plot loglog without buffer"
   ]
  },
  {
   "cell_type": "code",
   "execution_count": null,
   "metadata": {},
   "outputs": [],
   "source": [
    "fig = loglog_concx(buffer='no', prot1='WT Abl', prot2='WT Src', lig1='Bosutinib', lig2='Erlotinib', y1_prot=Abl_bos_prot, y1_buff=Abl_bos_buff, y2_prot=Abl_erl_prot, y2_buff=Abl_erl_prot, y3_prot=Src_bos_prot, y3_buff=Src_bos_buff, y4_prot=Src_erl_prot, y4_buff=Src_erl_buff)"
   ]
  },
  {
   "cell_type": "markdown",
   "metadata": {},
   "source": [
    "# Plot fluo traces over time"
   ]
  },
  {
   "cell_type": "markdown",
   "metadata": {},
   "source": [
    "## Create more plotting functions"
   ]
  },
  {
   "cell_type": "code",
   "execution_count": null,
   "metadata": {},
   "outputs": [],
   "source": [
    "# plot fluo trace across concentrations with colormap of each timepoint, logx with or without ylim\n",
    "\n",
    "def fluo_trace_logx(ylim, prot, lig, y_prot, y_buff):\n",
    "\n",
    "    fig,axes = plt.subplots(nrows=2,ncols=4,figsize=(30,20))\n",
    "\n",
    "    nrows=2\n",
    "    ncols=4\n",
    "\n",
    "    index = 0\n",
    "    for label_index,label in zip(range(len(labels)),labels):\n",
    "        x_values = concentrations\n",
    "        color = cm.rainbow(np.linspace(0,1,20))\n",
    "        ax = plt.subplot(nrows,ncols,index+1)\n",
    "        for read, c in zip(y_prot[label_index], color):\n",
    "            plt.semilogx(x_values, np.flip(read), c=c, linestyle='solid', linewidth=2)\n",
    "        for read, c in zip(y_buff[label_index], color):\n",
    "            plt.semilogx(x_values, np.flip(read), c=c, linestyle='dotted', linewidth=2)\n",
    "\n",
    "        plt.xlim(0,3e-5)\n",
    "        if ylim == 'yes':\n",
    "            ax.set_ylim(0, 65000)\n",
    "        else:\n",
    "            pass\n",
    "        ax.yaxis.set_tick_params(labelsize=18)\n",
    "        ax.xaxis.set_tick_params(labelsize=18)\n",
    "        plt.suptitle('Fluorescence Timecourse: %s & %s' %(prot,lig), fontsize=55, fontweight='bold')\n",
    "        plt.title('%s' % label, fontsize =20, fontweight='bold')\n",
    "        anchored_text = AnchoredText('Protein = solid, Buffer = dashed',  loc='upper left', prop=dict(size=14))\n",
    "        ax.add_artist(anchored_text)\n",
    "\n",
    "        index += 1\n",
    "\n",
    "    axis = plt.gca()\n",
    "    plt.ylabel('Fluorescence Units', fontsize=50, fontweight='bold')\n",
    "    axis.yaxis.set_label_coords(-3.8,1.25)\n",
    "    plt.xlabel('Concentration (M)', fontsize=50, fontweight='bold')\n",
    "    axis.xaxis.set_label_coords(-1.6,-0.2)\n",
    "\n",
    "\n",
    "\n",
    "    cax = fig.add_axes([.92, 0.127, 0.03, 0.75])\n",
    "\n",
    "    time = [i for i in range(nreads)] \n",
    "    time_mins = [i*5 for i in time]\n",
    "    norm = matplotlib.colors.BoundaryNorm(range(21), cm.rainbow.N)\n",
    "    cb = matplotlib.colorbar.ColorbarBase(cax, cmap='rainbow', norm=norm, ticks=range(21), boundaries=range(21))\n",
    "    cb.set_label('Time in Infinite (minutes)', fontsize=35, fontweight='bold')\n",
    "    cb.ax.tick_params(labelsize=20)\n",
    "    cb.ax.set_yticklabels(time_mins)\n",
    "\n",
    "    fig.savefig('20190411_fluo_trace_overtime_%s_%s_ylim_%s_logx.pdf' %(prot,lig,ylim), bbox_inches='tight', dpi=300)"
   ]
  },
  {
   "cell_type": "code",
   "execution_count": null,
   "metadata": {},
   "outputs": [],
   "source": [
    "# plot fluo trace across concentrations with colormap of each timepoint, loglog with or without ylim\n",
    "\n",
    "def fluo_trace_loglog(ylim, prot, lig, y_prot, y_buff):\n",
    "\n",
    "    fig,axes = plt.subplots(nrows=2,ncols=4,figsize=(30,20))\n",
    "\n",
    "    nrows=2\n",
    "    ncols=4\n",
    "\n",
    "    index = 0\n",
    "    for label_index,label in zip(range(len(labels)),labels):\n",
    "        x_values = concentrations\n",
    "        color = cm.rainbow(np.linspace(0,1,20))\n",
    "        ax = plt.subplot(nrows,ncols,index+1)\n",
    "        for read, c in zip(y_prot[label_index], color):\n",
    "            plt.loglog(x_values, np.flip(read), c=c, linestyle='solid', linewidth=2)\n",
    "        for read, c in zip(y_buff[label_index], color):\n",
    "            plt.loglog(x_values, np.flip(read), c=c, linestyle='dotted', linewidth=2)\n",
    "\n",
    "        plt.xlim(0,3e-5)\n",
    "        if ylim == 'yes':\n",
    "            ax.set_ylim(0, 65000)\n",
    "        else:\n",
    "            pass\n",
    "        ax.yaxis.set_tick_params(labelsize=18)\n",
    "        ax.xaxis.set_tick_params(labelsize=18)\n",
    "        plt.suptitle('Fluorescence Timecourse: %s & %s' %(prot,lig), fontsize=55, fontweight='bold')\n",
    "        plt.title('%s' % label, fontsize =20, fontweight='bold')\n",
    "        anchored_text = AnchoredText('Protein = solid, Buffer = dashed',  loc='upper left', prop=dict(size=14))\n",
    "        ax.add_artist(anchored_text)\n",
    "\n",
    "        index += 1\n",
    "\n",
    "    axis = plt.gca()\n",
    "    plt.ylabel('Fluorescence Units', fontsize=50, fontweight='bold')\n",
    "    axis.yaxis.set_label_coords(-3.8,1.25)\n",
    "    plt.xlabel('Concentration (M)', fontsize=50, fontweight='bold')\n",
    "    axis.xaxis.set_label_coords(-1.6,-0.2)\n",
    "\n",
    "\n",
    "\n",
    "    cax = fig.add_axes([.92, 0.127, 0.03, 0.75])\n",
    "\n",
    "    time = [i for i in range(nreads)] \n",
    "    time_mins = [i*5 for i in time]\n",
    "    norm = matplotlib.colors.BoundaryNorm(range(21), cm.rainbow.N)\n",
    "    cb = matplotlib.colorbar.ColorbarBase(cax, cmap='rainbow', norm=norm, ticks=range(21), boundaries=range(21))\n",
    "    cb.set_label('Time in Infinite (minutes)', fontsize=35, fontweight='bold')\n",
    "    cb.ax.tick_params(labelsize=20)\n",
    "    cb.ax.set_yticklabels(time_mins)\n",
    "\n",
    "    fig.savefig('20190411_fluo_trace_overtime_%s_%s_ylim_%s_loglog.pdf' %(prot,lig,ylim), bbox_inches='tight', dpi=300)"
   ]
  },
  {
   "cell_type": "markdown",
   "metadata": {},
   "source": [
    "## Extract data for each fluo trace over timecourse"
   ]
  },
  {
   "cell_type": "markdown",
   "metadata": {},
   "source": [
    "### Abl WT: Bosutinib"
   ]
  },
  {
   "cell_type": "code",
   "execution_count": null,
   "metadata": {},
   "outputs": [],
   "source": [
    "# associate reads with correct well, separate protein and buffer into separate arrays\n",
    "Abl_bos_prot_time = np.zeros([8, 20, 12], np.float64)\n",
    "Abl_bos_buff_time = np.zeros([8, 20, 12], np.float64)\n",
    "\n",
    "ncol = 12\n",
    "\n",
    "abl_bos_prot_wells = list()\n",
    "abl_bos_buff_wells = list()\n",
    "for well in range(ncol):\n",
    "    index = well + 1\n",
    "    prot_well_name = 'A%s' % index\n",
    "    buff_well_name = 'B%s' % index\n",
    "    abl_bos_prot_wells.append(prot_well_name)\n",
    "    abl_bos_buff_wells.append(buff_well_name)\n",
    "\n",
    "index = 0\n",
    "\n",
    "for label_index,label in zip(range(len(labels)),labels):\n",
    "    measurements_prot = list([[reads[x][label][j] for j in abl_bos_prot_wells] for x in range(nreads)])\n",
    "    measurements_buff = list([[reads[x][label][j] for j in abl_bos_buff_wells] for x in range(nreads)])\n",
    "    for x in range(nreads):\n",
    "        measurements_prot[x] = [i if i != 'OVER' else 70000 for i in measurements_prot[x]]\n",
    "        measurements_buff[x] = [i if i != 'OVER' else 70000 for i in measurements_buff[x]]\n",
    "    Abl_bos_prot_time[label_index] = np.array(measurements_prot)\n",
    "    Abl_bos_buff_time[label_index] = np.array(measurements_buff)\n",
    "\n",
    "index += 1"
   ]
  },
  {
   "cell_type": "markdown",
   "metadata": {},
   "source": [
    "### Plot logx fluo trace for Abl WT & Bosutinib"
   ]
  },
  {
   "cell_type": "code",
   "execution_count": null,
   "metadata": {},
   "outputs": [],
   "source": [
    "fig = fluo_trace_logx(ylim='no', prot='Abl WT', lig='Bosutinib', y_prot=Abl_bos_prot_time, y_buff=Abl_bos_buff_time)"
   ]
  },
  {
   "cell_type": "markdown",
   "metadata": {},
   "source": [
    "### Plot logx fluo trace with ylim for Abl WT & Bosutinib"
   ]
  },
  {
   "cell_type": "code",
   "execution_count": null,
   "metadata": {},
   "outputs": [],
   "source": [
    "fig = fluo_trace_logx(ylim='yes', prot='Abl WT', lig='Bosutinib', y_prot=Abl_bos_prot_time, y_buff=Abl_bos_buff_time)"
   ]
  },
  {
   "cell_type": "markdown",
   "metadata": {},
   "source": [
    "### Plot loglog fluo trace for Abl WT & Bosutinib"
   ]
  },
  {
   "cell_type": "code",
   "execution_count": null,
   "metadata": {},
   "outputs": [],
   "source": [
    "fig = fluo_trace_loglog(ylim='no', prot='Abl WT', lig='Bosutinib', y_prot=Abl_bos_prot_time, y_buff=Abl_bos_buff_time)"
   ]
  },
  {
   "cell_type": "markdown",
   "metadata": {},
   "source": [
    "### Plot loglog fluo trace w/ ylim for Abl WT & Bosutinib"
   ]
  },
  {
   "cell_type": "code",
   "execution_count": null,
   "metadata": {},
   "outputs": [],
   "source": [
    "fig = fluo_trace_loglog(ylim='yes', prot='Abl WT', lig='Bosutinib', y_prot=Abl_bos_prot_time, y_buff=Abl_bos_buff_time)"
   ]
  },
  {
   "cell_type": "markdown",
   "metadata": {},
   "source": [
    "### Abl WT: Erlotinib"
   ]
  },
  {
   "cell_type": "code",
   "execution_count": null,
   "metadata": {},
   "outputs": [],
   "source": [
    "Abl_erl_prot_time = np.zeros([8, 20, 12], np.float64)\n",
    "Abl_erl_buff_time = np.zeros([8, 20, 12], np.float64)\n",
    "\n",
    "abl_erl_prot_wells = list()\n",
    "abl_erl_buff_wells = list()\n",
    "for well in range(ncol):\n",
    "    index = well + 1\n",
    "    prot_well_name = 'C%s' % index\n",
    "    buff_well_name = 'D%s' % index\n",
    "    abl_erl_prot_wells.append(prot_well_name)\n",
    "    abl_erl_buff_wells.append(buff_well_name)\n",
    "    \n",
    "index = 0\n",
    "\n",
    "for label_index,label in zip(range(len(labels)),labels):\n",
    "    measurements_prot = list([[reads[x][label][j] for j in abl_erl_prot_wells] for x in range(nreads)])\n",
    "    measurements_buff = list([[reads[x][label][j] for j in abl_erl_buff_wells] for x in range(nreads)])\n",
    "    for x in range(nreads):\n",
    "        measurements_prot[x] = [i if i != 'OVER' else 70000 for i in measurements_prot[x]]\n",
    "        measurements_buff[x] = [i if i != 'OVER' else 70000 for i in measurements_buff[x]]\n",
    "    Abl_erl_prot_time[label_index] = np.array(measurements_prot)\n",
    "    Abl_erl_buff_time[label_index] = np.array(measurements_buff)\n",
    "\n",
    "index += 1\n"
   ]
  },
  {
   "cell_type": "markdown",
   "metadata": {},
   "source": [
    "### Plot logx fluo trace for Abl WT & Erlotinib"
   ]
  },
  {
   "cell_type": "code",
   "execution_count": null,
   "metadata": {},
   "outputs": [],
   "source": [
    "fig = fluo_trace_logx(ylim='no', prot='Abl WT', lig='Erlotinib', y_prot=Abl_erl_prot_time, y_buff=Abl_erl_buff_time)"
   ]
  },
  {
   "cell_type": "markdown",
   "metadata": {},
   "source": [
    "### Plot logx fluo trace w/ ylim for Abl WT & Erlotinib"
   ]
  },
  {
   "cell_type": "code",
   "execution_count": null,
   "metadata": {},
   "outputs": [],
   "source": [
    "fig = fluo_trace_logx(ylim='yes', prot='Abl WT', lig='Erlotinib', y_prot=Abl_erl_prot_time, y_buff=Abl_erl_buff_time)"
   ]
  },
  {
   "cell_type": "markdown",
   "metadata": {},
   "source": [
    "### Plot loglog fluo trace for Abl WT & Erlotinib"
   ]
  },
  {
   "cell_type": "code",
   "execution_count": null,
   "metadata": {},
   "outputs": [],
   "source": [
    "fig = fluo_trace_loglog(ylim='no', prot='Abl WT', lig='Erlotinib', y_prot=Abl_erl_prot_time, y_buff=Abl_erl_buff_time)"
   ]
  },
  {
   "cell_type": "markdown",
   "metadata": {},
   "source": [
    "### Plot loglog fluo trace w/ ylim for Abl WT & Erlotinib"
   ]
  },
  {
   "cell_type": "code",
   "execution_count": null,
   "metadata": {},
   "outputs": [],
   "source": [
    "fig = fluo_trace_loglog(ylim='yes', prot='Abl WT', lig='Erlotinib', y_prot=Abl_erl_prot_time, y_buff=Abl_erl_buff_time)"
   ]
  },
  {
   "cell_type": "markdown",
   "metadata": {},
   "source": [
    "### Src WT: Bosutinib"
   ]
  },
  {
   "cell_type": "code",
   "execution_count": null,
   "metadata": {},
   "outputs": [],
   "source": [
    "# associate reads with correct well, separate protein and buffer into separate arrays\n",
    "Src_bos_prot_time = np.zeros([8, 20, 12], np.float64)\n",
    "Src_bos_buff_time = np.zeros([8, 20, 12], np.float64)\n",
    "\n",
    "ncol = 12\n",
    "\n",
    "src_bos_prot_wells = list()\n",
    "src_bos_buff_wells = list()\n",
    "for well in range(ncol):\n",
    "    index = well + 1\n",
    "    prot_well_name = 'E%s' % index\n",
    "    buff_well_name = 'F%s' % index\n",
    "    src_bos_prot_wells.append(prot_well_name)\n",
    "    src_bos_buff_wells.append(buff_well_name)\n",
    "\n",
    "index = 0\n",
    "\n",
    "for label_index,label in zip(range(len(labels)),labels):\n",
    "    measurements_prot = list([[reads[x][label][j] for j in src_bos_prot_wells] for x in range(nreads)])\n",
    "    measurements_buff = list([[reads[x][label][j] for j in src_bos_buff_wells] for x in range(nreads)])\n",
    "    for x in range(nreads):\n",
    "        measurements_prot[x] = [i if i != 'OVER' else 70000 for i in measurements_prot[x]]\n",
    "        measurements_buff[x] = [i if i != 'OVER' else 70000 for i in measurements_buff[x]]\n",
    "    Src_bos_prot_time[label_index] = np.array(measurements_prot)\n",
    "    Src_bos_buff_time[label_index] = np.array(measurements_buff)\n",
    "    \n",
    "index += 1"
   ]
  },
  {
   "cell_type": "markdown",
   "metadata": {},
   "source": [
    "### Plot logx fluo trace for WT Src & Bosutinib"
   ]
  },
  {
   "cell_type": "code",
   "execution_count": null,
   "metadata": {},
   "outputs": [],
   "source": [
    "fig = fluo_trace_logx(ylim='no', prot='Src WT', lig='Bosutinib', y_prot=Src_bos_prot_time, y_buff=Src_bos_buff_time)"
   ]
  },
  {
   "cell_type": "markdown",
   "metadata": {},
   "source": [
    "### Plot logx fluo trace w/ ylim for WT Src & Bosutinib"
   ]
  },
  {
   "cell_type": "code",
   "execution_count": null,
   "metadata": {},
   "outputs": [],
   "source": [
    "fig = fluo_trace_logx(ylim='yes', prot='Src WT', lig='Bosutinib', y_prot=Src_bos_prot_time, y_buff=Src_bos_buff_time)"
   ]
  },
  {
   "cell_type": "markdown",
   "metadata": {},
   "source": [
    "### Plot loglog fluo trace for WT Src & Bosutinib"
   ]
  },
  {
   "cell_type": "code",
   "execution_count": null,
   "metadata": {},
   "outputs": [],
   "source": [
    "fig = fluo_trace_loglog(ylim='no', prot='Src WT', lig='Bosutinib', y_prot=Src_bos_prot_time, y_buff=Src_bos_buff_time)"
   ]
  },
  {
   "cell_type": "markdown",
   "metadata": {},
   "source": [
    "### Plot loglog fluo trace w/ ylim for WT Src & Bosutinib"
   ]
  },
  {
   "cell_type": "code",
   "execution_count": null,
   "metadata": {},
   "outputs": [],
   "source": [
    "fig = fluo_trace_loglog(ylim='yes', prot='Src WT', lig='Bosutinib', y_prot=Src_bos_prot_time, y_buff=Src_bos_buff_time)"
   ]
  },
  {
   "cell_type": "markdown",
   "metadata": {},
   "source": [
    "### WT Src: Erlotinib"
   ]
  },
  {
   "cell_type": "code",
   "execution_count": null,
   "metadata": {},
   "outputs": [],
   "source": [
    "# associate reads with correct well, separate protein and buffer into separate arrays\n",
    "Src_erl_prot_time = np.zeros([8, 20, 12], np.float64)\n",
    "Src_erl_buff_time = np.zeros([8, 20, 12], np.float64)\n",
    "\n",
    "ncol = 12\n",
    "\n",
    "src_erl_prot_wells = list()\n",
    "src_erl_buff_wells = list()\n",
    "for well in range(ncol):\n",
    "    index = well + 1\n",
    "    prot_well_name = 'G%s' % index\n",
    "    buff_well_name = 'H%s' % index\n",
    "    src_erl_prot_wells.append(prot_well_name)\n",
    "    src_erl_buff_wells.append(buff_well_name)\n",
    "    \n",
    "\n",
    "index = 0\n",
    "\n",
    "for label_index,label in zip(range(len(labels)),labels):\n",
    "    measurements_prot = list([[reads[x][label][j] for j in src_erl_prot_wells] for x in range(nreads)])\n",
    "    measurements_buff = list([[reads[x][label][j] for j in src_erl_buff_wells] for x in range(nreads)])\n",
    "    for x in range(nreads):\n",
    "        measurements_prot[x] = [i if i != 'OVER' else 70000 for i in measurements_prot[x]]\n",
    "        measurements_buff[x] = [i if i != 'OVER' else 70000 for i in measurements_buff[x]]\n",
    "    Src_erl_prot_time[label_index] = np.array(measurements_prot)\n",
    "    Src_erl_buff_time[label_index] = np.array(measurements_buff)\n",
    "\n",
    "index += 1"
   ]
  },
  {
   "cell_type": "markdown",
   "metadata": {},
   "source": [
    "### Plot logx fluo trace for Src WT & Erlotinib"
   ]
  },
  {
   "cell_type": "code",
   "execution_count": null,
   "metadata": {},
   "outputs": [],
   "source": [
    "fig = fluo_trace_logx(ylim='no', prot='Src WT', lig='Erlotinib', y_prot=Src_erl_prot_time, y_buff=Src_erl_buff_time)"
   ]
  },
  {
   "cell_type": "markdown",
   "metadata": {},
   "source": [
    "### Plot logx fluo trace w/ ylim for Src WT & Erlotinib"
   ]
  },
  {
   "cell_type": "code",
   "execution_count": null,
   "metadata": {},
   "outputs": [],
   "source": [
    "fig = fluo_trace_logx(ylim='yes', prot='Src WT', lig='Erlotinib', y_prot=Src_erl_prot_time, y_buff=Src_erl_buff_time)"
   ]
  },
  {
   "cell_type": "markdown",
   "metadata": {},
   "source": [
    "### Plot loglog fluo trace for Src WT & Erlotinib"
   ]
  },
  {
   "cell_type": "code",
   "execution_count": null,
   "metadata": {},
   "outputs": [],
   "source": [
    "fig = fluo_trace_loglog(ylim='no', prot='Src WT', lig='Erlotinib', y_prot=Src_erl_prot_time, y_buff=Src_erl_buff_time)"
   ]
  },
  {
   "cell_type": "markdown",
   "metadata": {},
   "source": [
    "### Plot loglog fluo trace w/ ylim for Src WT & Erlotinib"
   ]
  },
  {
   "cell_type": "code",
   "execution_count": null,
   "metadata": {},
   "outputs": [],
   "source": [
    "fig = fluo_trace_loglog(ylim='yes', prot='Src WT', lig='Erlotinib', y_prot=Src_erl_prot_time, y_buff=Src_erl_buff_time)"
   ]
  },
  {
   "cell_type": "markdown",
   "metadata": {},
   "source": [
    "## Extract and plot data according to time rather than concentration"
   ]
  },
  {
   "cell_type": "markdown",
   "metadata": {},
   "source": [
    "## Create more plotting functions"
   ]
  },
  {
   "cell_type": "code",
   "execution_count": null,
   "metadata": {},
   "outputs": [],
   "source": [
    "# plot fluo values across time with colormap of each concentration \n",
    "\n",
    "def fluo_time_plot(prot, lig, y_prot, y_buff):\n",
    "    \n",
    "    time = [i for i in range(nreads)] \n",
    "    time_mins = list([i*5 for i in time])\n",
    "\n",
    "    fig,axes = plt.subplots(nrows=2,ncols=4,figsize=(30,20))\n",
    "\n",
    "    # ncol = 12\n",
    "    nrows=2\n",
    "    ncols=4\n",
    "\n",
    "    index = 0\n",
    "    for label_index,label in zip(range(len(labels)),labels):\n",
    "        x_values_time = time_mins\n",
    "        color = cm.rainbow(np.linspace(0,1,12))\n",
    "        conc_color = np.flip(color)\n",
    "        ax = plt.subplot(nrows,ncols,index+1)\n",
    "        for read, c in zip(y_prot[label_index], color):\n",
    "            plt.plot(x_values_time, read, c=c, linestyle='solid', linewidth=2)\n",
    "        for read, c in zip(y_buff[label_index], color):\n",
    "            plt.plot(x_values_time, read, c=c, linestyle='dotted', linewidth=2)\n",
    "\n",
    "        ax.yaxis.set_tick_params(labelsize=18)\n",
    "        ax.xaxis.set_tick_params(labelsize=18)\n",
    "        plt.suptitle('Fluorescence Timecourse: %s & %s' %(prot,lig), fontsize=55, fontweight='bold')\n",
    "        plt.title('%s' % label, fontsize =15, fontweight='bold')\n",
    "        anchored_text = AnchoredText('Protein = solid\\n Buffer = dashed',  loc='upper left', prop=dict(size=10))\n",
    "        ax.add_artist(anchored_text)\n",
    "\n",
    "        index += 1\n",
    "\n",
    "    axis = plt.gca()\n",
    "    plt.ylabel('Fluorescence Units', fontsize=50, fontweight='bold')\n",
    "    axis.yaxis.set_label_coords(-3.8,1.25)\n",
    "    plt.xlabel('Time (mins)', fontsize=50, fontweight='bold')\n",
    "    axis.xaxis.set_label_coords(-1.2,-0.1)\n",
    "\n",
    "    cax = fig.add_axes([.92, 0.127, 0.03, 0.75])\n",
    "\n",
    "    micro_concentrations = np.multiply(concentrations, 1e6)\n",
    "    norm = matplotlib.colors.BoundaryNorm(micro_concentrations, cm.rainbow.N)\n",
    "    conc_labels = ['{0:.3f}'.format(x) for x in micro_concentrations]\n",
    "    cb = matplotlib.colorbar.ColorbarBase(cax, cmap='rainbow', norm=norm, ticks=micro_concentrations, boundaries=micro_concentrations)\n",
    "    cb.set_label('Ligand Concentration ($\\mu$M)', fontsize=35, fontweight='bold')\n",
    "    cb.ax.tick_params(labelsize=25)\n",
    "    cb.ax.set_yticklabels(conc_labels)\n",
    "\n",
    "\n",
    "    fig.savefig('20190411_well_values_overtime_%s_%s.pdf' %(prot,lig) , bbox_inches='tight', dpi=300)"
   ]
  },
  {
   "cell_type": "code",
   "execution_count": null,
   "metadata": {},
   "outputs": [],
   "source": [
    "# plot fluo values across time with colormap of each concentration, logy \n",
    "\n",
    "def fluo_time_logy(prot, lig, y_prot, y_buff):\n",
    "    \n",
    "    time = [i for i in range(nreads)] \n",
    "    time_mins = list([i*5 for i in time])\n",
    "\n",
    "    fig,axes = plt.subplots(nrows=2,ncols=4,figsize=(30,20))\n",
    "\n",
    "    # ncol = 12\n",
    "    nrows=2\n",
    "    ncols=4\n",
    "\n",
    "    index = 0\n",
    "    for label_index,label in zip(range(len(labels)),labels):\n",
    "        x_values_time = time_mins\n",
    "        color = cm.rainbow(np.linspace(0,1,12))\n",
    "        conc_color = np.flip(color)\n",
    "        ax = plt.subplot(nrows,ncols,index+1)\n",
    "        for read, c in zip(y_prot[label_index], color):\n",
    "            plt.semilogy(x_values_time, read, c=c, linestyle='solid', linewidth=2)\n",
    "        for read, c in zip(y_buff[label_index], color):\n",
    "            plt.semilogy(x_values_time, read, c=c, linestyle='dotted', linewidth=2)\n",
    "\n",
    "        ax.yaxis.set_tick_params(labelsize=18)\n",
    "        ax.xaxis.set_tick_params(labelsize=18)\n",
    "        plt.suptitle('Fluorescence Timecourse: %s & %s' %(prot,lig), fontsize=55, fontweight='bold')\n",
    "        plt.title('%s' % label, fontsize =15, fontweight='bold')\n",
    "        anchored_text = AnchoredText('Protein = solid\\n Buffer = dashed',  loc='upper left', prop=dict(size=10))\n",
    "        ax.add_artist(anchored_text)\n",
    "\n",
    "        index += 1\n",
    "\n",
    "    axis = plt.gca()\n",
    "    plt.ylabel('Fluorescence Units', fontsize=50, fontweight='bold')\n",
    "    axis.yaxis.set_label_coords(-3.8,1.25)\n",
    "    plt.xlabel('Time (mins)', fontsize=50, fontweight='bold')\n",
    "    axis.xaxis.set_label_coords(-1.2,-0.1)\n",
    "\n",
    "    cax = fig.add_axes([.92, 0.127, 0.03, 0.75])\n",
    "\n",
    "    micro_concentrations = np.multiply(concentrations, 1e6)\n",
    "    norm = matplotlib.colors.BoundaryNorm(micro_concentrations, cm.rainbow.N)\n",
    "    conc_labels = ['{0:.3f}'.format(x) for x in micro_concentrations]\n",
    "    cb = matplotlib.colorbar.ColorbarBase(cax, cmap='rainbow', norm=norm, ticks=micro_concentrations, boundaries=micro_concentrations)\n",
    "    cb.set_label('Ligand Concentration ($\\mu$M)', fontsize=35, fontweight='bold')\n",
    "    cb.ax.tick_params(labelsize=25)\n",
    "    cb.ax.set_yticklabels(conc_labels)\n",
    "\n",
    "\n",
    "    fig.savefig('20190411_well_values_overtime_%s_%s_logy.pdf' %(prot,lig) , bbox_inches='tight', dpi=300)"
   ]
  },
  {
   "cell_type": "markdown",
   "metadata": {},
   "source": [
    "## WT Abl: Bosutinib"
   ]
  },
  {
   "cell_type": "code",
   "execution_count": null,
   "metadata": {},
   "outputs": [],
   "source": [
    "# associate reads with correct well, separate protein and buffer into separate arrays\n",
    "Abl_bos_prot_timex = np.zeros([8, 12, 20], np.float64)\n",
    "Abl_bos_buff_timex = np.zeros([8, 12, 20], np.float64)\n",
    "\n",
    "ncol = 12\n",
    "\n",
    "abl_bos_prot_wells = list()\n",
    "abl_bos_buff_wells = list()\n",
    "for well in range(ncol):\n",
    "    index = well + 1\n",
    "    prot_well_name = 'A%s' % index\n",
    "    buff_well_name = 'B%s' % index\n",
    "    abl_bos_prot_wells.append(prot_well_name)\n",
    "    abl_bos_buff_wells.append(buff_well_name)\n",
    "\n",
    "index = 0\n",
    "\n",
    "for label_index,label in zip(range(len(labels)),labels):\n",
    "    measurements_prot = list([[reads[x][label][j] for x in range(nreads)] for j in reversed(abl_bos_prot_wells)])\n",
    "    measurements_buff = list([[reads[x][label][j] for x in range(nreads)] for j in reversed(abl_bos_buff_wells)])\n",
    "    for x in range(len(abl_bos_prot_wells)):\n",
    "        measurements_prot[x] = [i if i != 'OVER' else 70000 for i in measurements_prot[x]]\n",
    "        measurements_buff[x] = [i if i != 'OVER' else 70000 for i in measurements_buff[x]]\n",
    "    Abl_bos_prot_timex[label_index] = np.array(measurements_prot)\n",
    "    Abl_bos_buff_timex[label_index] = np.array(measurements_buff)\n",
    "    index += 1\n"
   ]
  },
  {
   "cell_type": "markdown",
   "metadata": {},
   "source": [
    "### Plot well values overtime for Abl WT & Bosutinib"
   ]
  },
  {
   "cell_type": "code",
   "execution_count": null,
   "metadata": {},
   "outputs": [],
   "source": [
    "fig = fluo_time_plot(prot='Abl WT', lig='Bosutinib', y_prot=Abl_bos_prot_timex, y_buff=Abl_bos_buff_timex)"
   ]
  },
  {
   "cell_type": "markdown",
   "metadata": {},
   "source": [
    "### Plot logy well values overtime for Abl WT & Bosutinib"
   ]
  },
  {
   "cell_type": "code",
   "execution_count": null,
   "metadata": {},
   "outputs": [],
   "source": [
    "fig = fluo_time_logy(prot='Abl WT', lig='Bosutinib', y_prot=Abl_bos_prot_timex, y_buff=Abl_bos_buff_timex)"
   ]
  },
  {
   "cell_type": "code",
   "execution_count": null,
   "metadata": {},
   "outputs": [],
   "source": [
    "# associate reads with correct well, separate protein and buffer into separate arrays\n",
    "Abl_erl_prot_timex = np.zeros([8, 12, 20], np.float64)\n",
    "Abl_erl_buff_timex = np.zeros([8, 12, 20], np.float64)\n",
    "\n",
    "ncol = 12\n",
    "\n",
    "abl_erl_prot_wells = list()\n",
    "abl_erl_buff_wells = list()\n",
    "for well in range(ncol):\n",
    "    index = well + 1\n",
    "    prot_well_name = 'C%s' % index\n",
    "    buff_well_name = 'D%s' % index\n",
    "    abl_erl_prot_wells.append(prot_well_name)\n",
    "    abl_erl_buff_wells.append(buff_well_name)\n",
    "\n",
    "index = 0\n",
    "\n",
    "for label_index,label in zip(range(len(labels)),labels):\n",
    "    measurements_prot = list([[reads[x][label][j] for x in range(nreads)] for j in reversed(abl_erl_prot_wells)])\n",
    "    measurements_buff = list([[reads[x][label][j] for x in range(nreads)] for j in reversed(abl_erl_buff_wells)])\n",
    "    for x in range(len(abl_erl_prot_wells)):\n",
    "        measurements_prot[x] = [i if i != 'OVER' else 70000 for i in measurements_prot[x]]\n",
    "        measurements_buff[x] = [i if i != 'OVER' else 70000 for i in measurements_buff[x]]\n",
    "    Abl_erl_prot_timex[label_index] = np.array(measurements_prot)\n",
    "    Abl_erl_buff_timex[label_index] = np.array(measurements_buff)\n",
    "    index += 1"
   ]
  },
  {
   "cell_type": "markdown",
   "metadata": {},
   "source": [
    "### Plot well values overtime for Abl WT & Erlotinib"
   ]
  },
  {
   "cell_type": "code",
   "execution_count": null,
   "metadata": {},
   "outputs": [],
   "source": [
    "fig = fluo_time_plot(prot='Abl WT', lig='Erlotinib', y_prot=Abl_erl_prot_timex, y_buff=Abl_erl_buff_timex)"
   ]
  },
  {
   "cell_type": "markdown",
   "metadata": {},
   "source": [
    "### Plot logy well values overtime for Abl WT & Erlotinib"
   ]
  },
  {
   "cell_type": "code",
   "execution_count": null,
   "metadata": {},
   "outputs": [],
   "source": [
    "fig = fluo_time_logy(prot='Abl WT', lig='Erlotinib', y_prot=Abl_erl_prot_timex, y_buff=Abl_erl_buff_timex)"
   ]
  },
  {
   "cell_type": "code",
   "execution_count": null,
   "metadata": {},
   "outputs": [],
   "source": [
    "# associate reads with correct well, separate protein and buffer into separate arrays\n",
    "Src_bos_prot_timex = np.zeros([8, 12, 20], np.float64)\n",
    "Src_bos_buff_timex = np.zeros([8, 12, 20], np.float64)\n",
    "\n",
    "ncol = 12\n",
    "\n",
    "src_bos_prot_wells = list()\n",
    "src_bos_buff_wells = list()\n",
    "for well in range(ncol):\n",
    "    index = well + 1\n",
    "    prot_well_name = 'E%s' % index\n",
    "    buff_well_name = 'F%s' % index\n",
    "    src_bos_prot_wells.append(prot_well_name)\n",
    "    src_bos_buff_wells.append(buff_well_name)\n",
    "\n",
    "index = 0\n",
    "\n",
    "for label_index,label in zip(range(len(labels)),labels):\n",
    "    measurements_prot = list([[reads[x][label][j] for x in range(nreads)] for j in reversed(src_bos_prot_wells)])\n",
    "    measurements_buff = list([[reads[x][label][j] for x in range(nreads)] for j in reversed(src_bos_buff_wells)])\n",
    "    for x in range(len(src_bos_prot_wells)):\n",
    "        measurements_prot[x] = [i if i != 'OVER' else 70000 for i in measurements_prot[x]]\n",
    "        measurements_buff[x] = [i if i != 'OVER' else 70000 for i in measurements_buff[x]]\n",
    "    Src_bos_prot_timex[label_index] = np.array(measurements_prot)\n",
    "    Src_bos_buff_timex[label_index] = np.array(measurements_buff)\n",
    "    \n",
    "    index += 1"
   ]
  },
  {
   "cell_type": "markdown",
   "metadata": {},
   "source": [
    "### Plot well values overtime for Src WT & Bosutinib"
   ]
  },
  {
   "cell_type": "code",
   "execution_count": null,
   "metadata": {},
   "outputs": [],
   "source": [
    "fig = fluo_time_plot(prot='Src WT', lig='Bosutinib', y_prot=Src_bos_prot_timex, y_buff=Src_bos_buff_timex)"
   ]
  },
  {
   "cell_type": "markdown",
   "metadata": {},
   "source": [
    "### Plot logy well values overtime for Src WT & Bosutinib"
   ]
  },
  {
   "cell_type": "code",
   "execution_count": null,
   "metadata": {},
   "outputs": [],
   "source": [
    "fig = fluo_time_logy(prot='Src WT', lig='Bosutinib', y_prot=Src_bos_prot_timex, y_buff=Src_bos_buff_timex)"
   ]
  },
  {
   "cell_type": "code",
   "execution_count": null,
   "metadata": {},
   "outputs": [],
   "source": [
    "# associate reads with correct well, separate protein and buffer into separate arrays\n",
    "Src_erl_prot_timex = np.zeros([8, 12, 20], np.float64)\n",
    "Src_erl_buff_timex = np.zeros([8, 12, 20], np.float64)\n",
    "\n",
    "ncol = 12\n",
    "\n",
    "src_erl_prot_wells = list()\n",
    "src_erl_buff_wells = list()\n",
    "for well in range(ncol):\n",
    "    index = well + 1\n",
    "    prot_well_name = 'G%s' % index\n",
    "    buff_well_name = 'H%s' % index\n",
    "    src_erl_prot_wells.append(prot_well_name)\n",
    "    src_erl_buff_wells.append(buff_well_name)\n",
    "\n",
    "index = 0\n",
    "\n",
    "for label_index,label in zip(range(len(labels)),labels):\n",
    "    measurements_prot = list([[reads[x][label][j] for x in range(nreads)] for j in reversed(src_erl_prot_wells)])\n",
    "    measurements_buff = list([[reads[x][label][j] for x in range(nreads)] for j in reversed(src_erl_buff_wells)])\n",
    "    for x in range(len(src_bos_prot_wells)):\n",
    "        measurements_prot[x] = [i if i != 'OVER' else 70000 for i in measurements_prot[x]]\n",
    "        measurements_buff[x] = [i if i != 'OVER' else 70000 for i in measurements_buff[x]]\n",
    "    Src_erl_prot_timex[label_index] = np.array(measurements_prot)\n",
    "    Src_erl_buff_timex[label_index] = np.array(measurements_buff)\n",
    "    index += 1"
   ]
  },
  {
   "cell_type": "markdown",
   "metadata": {},
   "source": [
    "### Plot well values overtime for Src WT & Erlotinib"
   ]
  },
  {
   "cell_type": "code",
   "execution_count": null,
   "metadata": {},
   "outputs": [],
   "source": [
    "fig = fluo_time_plot(prot='Src WT', lig='Erlotinib', y_prot=Src_erl_prot_timex, y_buff=Src_erl_buff_timex)"
   ]
  },
  {
   "cell_type": "markdown",
   "metadata": {},
   "source": [
    "### Plot logy well values overtime for Src WT & Erlotinib"
   ]
  },
  {
   "cell_type": "code",
   "execution_count": null,
   "metadata": {},
   "outputs": [],
   "source": [
    "fig = fluo_time_logy(prot='Src WT', lig='Erlotinib', y_prot=Src_erl_prot_timex, y_buff=Src_erl_buff_timex)"
   ]
  },
  {
   "cell_type": "code",
   "execution_count": null,
   "metadata": {},
   "outputs": [],
   "source": []
  }
 ],
 "metadata": {
  "kernelspec": {
   "display_name": "Python 3",
   "language": "python",
   "name": "python3"
  },
  "language_info": {
   "codemirror_mode": {
    "name": "ipython",
    "version": 3
   },
   "file_extension": ".py",
   "mimetype": "text/x-python",
   "name": "python",
   "nbconvert_exporter": "python",
   "pygments_lexer": "ipython3",
   "version": "3.6.7"
  }
 },
 "nbformat": 4,
 "nbformat_minor": 2
}
