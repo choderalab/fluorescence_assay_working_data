{
 "cells": [
  {
   "cell_type": "code",
   "execution_count": 1,
   "metadata": {},
   "outputs": [],
   "source": [
    "import numpy as np"
   ]
  },
  {
   "cell_type": "code",
   "execution_count": 2,
   "metadata": {},
   "outputs": [
    {
     "name": "stdout",
     "output_type": "stream",
     "text": [
      "['A1', 'A2', 'A3', 'A4', 'A5', 'A6', 'A7', 'A8', 'A9', 'A10', 'A11', 'A12', 'B1', 'B2', 'B3', 'B4', 'B5', 'B6', 'B7', 'B8', 'B9', 'B10', 'B11', 'B12', 'C1', 'C2', 'C3', 'C4', 'C5', 'C6', 'C7', 'C8', 'C9', 'C10', 'C11', 'C12', 'D1', 'D2', 'D3', 'D4', 'D5', 'D6', 'D7', 'D8', 'D9', 'D10', 'D11', 'D12', 'E1', 'E2', 'E3', 'E4', 'E5', 'E6', 'E7', 'E8', 'E9', 'E10', 'E11', 'E12', 'F1', 'F2', 'F3', 'F4', 'F5', 'F6', 'F7', 'F8', 'F9', 'F10', 'F11', 'F12', 'G1', 'G2', 'G3', 'G4', 'G5', 'G6', 'G7', 'G8', 'G9', 'G10', 'G11', 'G12', 'H1', 'H2', 'H3', 'H4', 'H5', 'H6', 'H7', 'H8', 'H9', 'H10', 'H11', 'H12']\n"
     ]
    }
   ],
   "source": [
    "nrows = 8\n",
    "ncols = 12\n",
    "index = 0\n",
    "\n",
    "well_order = list()\n",
    "for row_index in range(nrows):\n",
    "    for col_index in range(ncols):\n",
    "        row = '%c' % (ord('A')+row_index)\n",
    "        col = '%d' % (col_index+1)\n",
    "        well = row + col\n",
    "        well_order.append(well)\n",
    "\n",
    "print(well_order)"
   ]
  },
  {
   "cell_type": "code",
   "execution_count": null,
   "metadata": {},
   "outputs": [],
   "source": [
    "# extract values in well order (ie A12, B1 instead of infinite's A12, B12, B11); sorry this is so not a good way to do this        \n",
    "measurements_list = list()\n",
    "order = [0,1,2,3,4,5,6,7,8,9,10,11,23,22,21,20,19,18,17,16,15,14,13,12,24,25,26,27,28,29,30,31,32,33,34,35,47,46,\n",
    "        45,44,43,42,41,40,39,38,37,36,48,49,50,51,52,53,54,55,56,57,58,59,71,70,69,68,67,66,65,64,63,62,61,60,72,\n",
    "        73,74,75,76,77,78,79,80,81,82,83,95,94,93,92,91,90,89,88,87,86,85,84]"
   ]
  }
 ],
 "metadata": {
  "kernelspec": {
   "display_name": "Python 3",
   "language": "python",
   "name": "python3"
  },
  "language_info": {
   "codemirror_mode": {
    "name": "ipython",
    "version": 3
   },
   "file_extension": ".py",
   "mimetype": "text/x-python",
   "name": "python",
   "nbconvert_exporter": "python",
   "pygments_lexer": "ipython3",
   "version": "3.6.7"
  }
 },
 "nbformat": 4,
 "nbformat_minor": 2
}
